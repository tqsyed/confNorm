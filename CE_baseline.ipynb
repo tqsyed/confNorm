{
  "cells": [
    {
      "cell_type": "markdown",
      "metadata": {
        "id": "view-in-github",
        "colab_type": "text"
      },
      "source": [
        "<a href=\"https://colab.research.google.com/github/tqsyed/confNorm/blob/main/CE_baseline.ipynb\" target=\"_parent\"><img src=\"https://colab.research.google.com/assets/colab-badge.svg\" alt=\"Open In Colab\"/></a>"
      ]
    },
    {
      "cell_type": "code",
      "execution_count": null,
      "metadata": {
        "id": "j81bhONH1rNF",
        "colab": {
          "base_uri": "https://localhost:8080/"
        },
        "outputId": "e03fd729-57df-49b1-caaf-c86635538e11"
      },
      "outputs": [
        {
          "output_type": "stream",
          "name": "stdout",
          "text": [
            "Downloading https://www.cs.toronto.edu/~kriz/cifar-10-python.tar.gz to ./data/cifar-10-python.tar.gz\n"
          ]
        },
        {
          "output_type": "stream",
          "name": "stderr",
          "text": [
            "100%|██████████| 170498071/170498071 [00:04<00:00, 36342935.49it/s]\n"
          ]
        },
        {
          "output_type": "stream",
          "name": "stdout",
          "text": [
            "Extracting ./data/cifar-10-python.tar.gz to ./data\n",
            "Files already downloaded and verified\n"
          ]
        }
      ],
      "source": [
        "import torch\n",
        "import torchvision\n",
        "import torchvision.transforms as transforms\n",
        "\n",
        "transform = transforms.Compose(\n",
        "    [transforms.ToTensor(),\n",
        "     transforms.Normalize((0.5, 0.5, 0.5), (0.5, 0.5, 0.5))])\n",
        "\n",
        "trainset = torchvision.datasets.CIFAR10(root='./data', train=True,\n",
        "                                        download=True, transform=transform)\n",
        "trainloader = torch.utils.data.DataLoader(trainset, batch_size=4,\n",
        "                                          shuffle=True, num_workers=2)\n",
        "\n",
        "testset = torchvision.datasets.CIFAR10(root='./data', train=False,\n",
        "                                       download=True, transform=transform)\n",
        "testloader = torch.utils.data.DataLoader(testset, batch_size=4,\n",
        "                                         shuffle=False, num_workers=2)\n",
        "\n",
        "classes = ('plane', 'car', 'bird', 'cat',\n",
        "           'deer', 'dog', 'frog', 'horse', 'ship', 'truck')"
      ]
    },
    {
      "cell_type": "code",
      "execution_count": null,
      "metadata": {
        "id": "aqZ7dOup2gXy",
        "colab": {
          "base_uri": "https://localhost:8080/"
        },
        "outputId": "ba3ef9f2-41e1-4f98-dade-e3e49ea83847"
      },
      "outputs": [
        {
          "output_type": "stream",
          "name": "stdout",
          "text": [
            "Files already downloaded and verified\n",
            "Files already downloaded and verified\n"
          ]
        }
      ],
      "source": [
        "import torch\n",
        "import torchvision\n",
        "import torchvision.transforms as transforms\n",
        "\n",
        "transform = transforms.Compose(\n",
        "    [transforms.ToTensor(),\n",
        "     transforms.Normalize((0.5, 0.5, 0.5), (0.5, 0.5, 0.5))])\n",
        "\n",
        "trainset = torchvision.datasets.CIFAR10(root='./data', train=True,\n",
        "                                        download=True, transform=transform)\n",
        "trainloader = torch.utils.data.DataLoader(trainset, batch_size=4,\n",
        "                                          shuffle=True, num_workers=2)\n",
        "\n",
        "testset = torchvision.datasets.CIFAR10(root='./data', train=False,\n",
        "                                       download=True, transform=transform)\n",
        "testloader = torch.utils.data.DataLoader(testset, batch_size=4,\n",
        "                                         shuffle=False, num_workers=2)\n",
        "\n",
        "classes = ('plane', 'car', 'bird', 'cat',\n",
        "           'deer', 'dog', 'frog', 'horse', 'ship', 'truck')"
      ]
    },
    {
      "cell_type": "code",
      "execution_count": null,
      "metadata": {
        "id": "iW72pDJa2uUs"
      },
      "outputs": [],
      "source": [
        "import torch.nn as nn\n",
        "import torch.nn.functional as F\n",
        "\n",
        "\n",
        "class Net(nn.Module):\n",
        "    def __init__(self):\n",
        "        super(Net, self).__init__()\n",
        "        self.conv1 = nn.Conv2d(3, 6, 5)\n",
        "        self.pool = nn.MaxPool2d(2, 2)\n",
        "        self.conv2 = nn.Conv2d(6, 16, 5)\n",
        "        self.fc1 = nn.Linear(16 * 5 * 5, 120)\n",
        "        self.fc2 = nn.Linear(120, 84)\n",
        "        self.fc3 = nn.Linear(84, 10)\n",
        "\n",
        "    def forward(self, x):\n",
        "        x = self.pool(F.relu(self.conv1(x)))\n",
        "        x = self.pool(F.relu(self.conv2(x)))\n",
        "        x = x.view(-1, 16 * 5 * 5)\n",
        "        x = F.relu(self.fc1(x))\n",
        "        x = F.relu(self.fc2(x))\n",
        "        x = self.fc3(x)\n",
        "        return x\n",
        "\n",
        "\n",
        "net = Net()"
      ]
    },
    {
      "cell_type": "code",
      "execution_count": null,
      "metadata": {
        "id": "lIFE73d_2y_0"
      },
      "outputs": [],
      "source": [
        "import math\n",
        "import torch.optim as optim\n",
        "\n",
        "f = nn.Sigmoid()\n",
        "# it days LNC but the hisaab is  apprently CE\n",
        "\n",
        "\n",
        "def LNC_loss(output, target):\n",
        "       #if (sum(output) - output[target]) == 0:\n",
        "         #print((sum(output) - output[target]))\n",
        "         #return 0\n",
        "       return (output[target] / (sum(output)))# - output[target])\n",
        "\n",
        "class new_loss(nn.CrossEntropyLoss):\n",
        "  def forward(self, input, target):\n",
        "        val = 0\n",
        "        for i in range(0,len(input)):\n",
        "          val +=  LNC_loss(f(input[i]), target[i])\n",
        "        # print(\"Cross Entropy Value\")\n",
        "        # print(F.cross_entropy(input, target, weight=self.weight, ignore_index=self.ignore_index, reduction=self.reduction))\n",
        "        # print(\"Ratio Value\")\n",
        "        # print(val)\n",
        "        if(math.isnan(val)):\n",
        "          print(val)\n",
        "          return F.cross_entropy(input, target, weight=self.weight, ignore_index=self.ignore_index, reduction=self.reduction)\n",
        "        #print(F.cross_entropy(input, target, weight=self.weight, ignore_index=self.ignore_index, reduction=self.reduction))\n",
        "        return F.cross_entropy(input, target, weight=self.weight, ignore_index=self.ignore_index, reduction=self.reduction) # - (0.01 *  val)\n",
        "        #return val\n",
        "\n",
        "\n",
        "\n",
        "criterion = new_loss()\n",
        "optimizer = optim.SGD(net.parameters(), lr=0.001, momentum=0.9)"
      ]
    },
    {
      "cell_type": "code",
      "execution_count": null,
      "metadata": {
        "colab": {
          "base_uri": "https://localhost:8080/"
        },
        "id": "GwEw3Yob25u8",
        "outputId": "bc42e633-4ef4-4ba3-cce6-3d0a11ea8052"
      },
      "outputs": [
        {
          "output_type": "stream",
          "name": "stdout",
          "text": [
            "[1,  2000] loss: 2.254\n",
            "[1,  4000] loss: 1.934\n",
            "[1,  6000] loss: 1.754\n",
            "[1,  8000] loss: 1.637\n",
            "[1, 10000] loss: 1.533\n",
            "[1, 12000] loss: 1.503\n",
            "Finished Training\n"
          ]
        }
      ],
      "source": [
        "device = torch.device(\"cuda:0\" if torch.cuda.is_available() else \"cpu\")\n",
        "net.to(device)\n",
        "\n",
        "for epoch in range(10):  # loop over the dataset multiple times\n",
        "\n",
        "    running_loss = 0.0\n",
        "    for i, data in enumerate(trainloader, 0):\n",
        "        # get the inputs\n",
        "        inputs, labels = data\n",
        "        inputs, labels = inputs.to(device), labels.to(device)\n",
        "\n",
        "        # new '23 cuda thing\n",
        "        inputs, labels = inputs.type(torch.cuda.FloatTensor), labels.type(torch.cuda.FloatTensor)\n",
        "\n",
        "\n",
        "        # zero the parameter gradients\n",
        "        optimizer.zero_grad()\n",
        "\n",
        "        outputs = outputs.type(torch.cuda.FloatTensor)\n",
        "        # forward + backward + optimize\n",
        "        outputs = net(inputs)\n",
        "        loss = criterion(outputs, labels.long())\n",
        "        loss.backward()\n",
        "        optimizer.step()\n",
        "\n",
        "        # print statistics\n",
        "        running_loss += loss.item()\n",
        "        if i % 2000 == 1999:    # print every 2000 mini-batches\n",
        "            print('[%d, %5d] loss: %.3f' %\n",
        "                  (epoch + 1, i + 1, running_loss / 2000))\n",
        "            running_loss = 0.0\n",
        "\n",
        "print('Finished Training')"
      ]
    },
    {
      "cell_type": "code",
      "execution_count": null,
      "metadata": {
        "colab": {
          "base_uri": "https://localhost:8080/"
        },
        "id": "DIuMfoTB29Yn",
        "outputId": "a834c67f-ad71-498d-cb24-b32492c2057a"
      },
      "outputs": [
        {
          "output_type": "stream",
          "name": "stdout",
          "text": [
            "GroundTruth:    cat  ship  ship plane\n"
          ]
        }
      ],
      "source": [
        "dataiter = iter(testloader)\n",
        "images, labels = dataiter.__next__()\n",
        "\n",
        "# google.colab.patches import cv2_imshow\n",
        "# print images\n",
        "# cv2_imshow(torchvision.utils.make_grid(images))\n",
        "print('GroundTruth: ', ' '.join('%5s' % classes[labels[j]] for j in range(4)))"
      ]
    },
    {
      "cell_type": "code",
      "execution_count": null,
      "metadata": {
        "colab": {
          "base_uri": "https://localhost:8080/"
        },
        "id": "oKF-OtES3BuT",
        "outputId": "b1b31448-fbfc-429e-c765-1eb64fe355c8"
      },
      "outputs": [
        {
          "output_type": "stream",
          "name": "stdout",
          "text": [
            "Accuracy of the network on the 10000 test images: 47 %\n"
          ]
        }
      ],
      "source": [
        "\n",
        "correct = 0\n",
        "total = 0\n",
        "with torch.no_grad():\n",
        "    for data in testloader:\n",
        "        images, labels = data\n",
        "        inputs, outputs, labels, images = inputs.type(torch.cuda.FloatTensor), outputs.type(torch.cuda.FloatTensor), labels.type(torch.cuda.FloatTensor), images.type(torch.cuda.FloatTensor)\n",
        "        outputs = net(images)\n",
        "        _, predicted = torch.max(outputs.data, 1)\n",
        "        total += labels.size(0)\n",
        "        correct += (predicted == labels).sum().item()\n",
        "\n",
        "print('Accuracy of the network on the 10000 test images: %d %%' % (\n",
        "    100 * correct / total))"
      ]
    },
    {
      "cell_type": "code",
      "execution_count": null,
      "metadata": {
        "colab": {
          "base_uri": "https://localhost:8080/"
        },
        "id": "IeXlzoWk3EW8",
        "outputId": "3995093f-c435-4644-f1b3-bfe027992edc"
      },
      "outputs": [
        {
          "output_type": "stream",
          "name": "stdout",
          "text": [
            "Accuracy of plane : 38 %\n",
            "Accuracy of   car : 69 %\n",
            "Accuracy of  bird : 35 %\n",
            "Accuracy of   cat : 14 %\n",
            "Accuracy of  deer : 23 %\n",
            "Accuracy of   dog : 45 %\n",
            "Accuracy of  frog : 66 %\n",
            "Accuracy of horse : 72 %\n",
            "Accuracy of  ship : 60 %\n",
            "Accuracy of truck : 49 %\n"
          ]
        }
      ],
      "source": [
        "\n",
        "confidences = []\n",
        "for i in range(0,10):\n",
        "  confidences.append([])\n",
        "confidences\n",
        "\n",
        "class_correct = list(0. for i in range(10))\n",
        "class_total = list(0. for i in range(10))\n",
        "\n",
        "\n",
        "\n",
        "\n",
        "with torch.no_grad():\n",
        "    for data in testloader:\n",
        "        images, labels = data\n",
        "        images, labels = images.type(torch.cuda.FloatTensor), labels.type(torch.cuda.FloatTensor)\n",
        "        outputs = net(images)\n",
        "        labels = labels.int()\n",
        "        _, predicted = torch.max(outputs, 1)\n",
        "        c = (predicted == labels).squeeze()\n",
        "        for i in range(4):\n",
        "            label = labels[i]\n",
        "            class_correct[label] += c[i].item()\n",
        "            class_total[label] += 1\n",
        "            confidences[labels[i]].append(f(outputs[i]))\n",
        "\n",
        "\n",
        "for i in range(10):\n",
        "    print('Accuracy of %5s : %2d %%' % (\n",
        "        classes[i], 100 * class_correct[i] / class_total[i]))\n",
        "\n",
        "\n"
      ]
    },
    {
      "cell_type": "code",
      "execution_count": null,
      "metadata": {
        "colab": {
          "base_uri": "https://localhost:8080/"
        },
        "id": "-zG3ELR73YBj",
        "outputId": "907b23d5-5393-466d-93cb-9f06a2f9634b"
      },
      "outputs": [
        {
          "output_type": "stream",
          "name": "stdout",
          "text": [
            "[[386  65 119   8  22  14  27  68 206  85]\n",
            " [  9 698   9  11   8   5  34  24  54 148]\n",
            " [ 47  21 355  26  76 166 121 145  22  21]\n",
            " [  6  18  92 144  47 264 173 207  14  35]\n",
            " [ 21  21 222  19 239  75 144 233  18   8]\n",
            " [  4   9 104  52  36 458  70 247   9  11]\n",
            " [  2  17  57  34  72  49 662  78   4  25]\n",
            " [  8  16  37  22  43  90  31 725   7  21]\n",
            " [ 84 111  30   7   9  15  26  29 603  86]\n",
            " [ 10 241  13  11   2   9  61  91  65 497]]\n",
            "[38.6 69.8 35.5 14.4 23.9 45.8 66.2 72.5 60.3 49.7]\n"
          ]
        }
      ],
      "source": [
        "from sklearn.metrics import confusion_matrix\n",
        "\n",
        "nb_classes = 10\n",
        "\n",
        "# Initialize the prediction and label lists(tensors)\n",
        "predlist=torch.zeros(0,dtype=torch.long, device='cpu')\n",
        "lbllist=torch.zeros(0,dtype=torch.long, device='cpu')\n",
        "\n",
        "\n",
        "with torch.no_grad():\n",
        "    for data in testloader:\n",
        "        images, labels = data\n",
        "        images, labels = images.type(torch.cuda.FloatTensor), labels.type(torch.cuda.FloatTensor)\n",
        "        outputs = net(images)\n",
        "        _, predicted = torch.max(outputs, 1)\n",
        "        c = (predicted == labels).squeeze()\n",
        "        # for i in range(4):\n",
        "        #     label = labels[i]\n",
        "        #     pred = c[i]\n",
        "\n",
        "        predlist=torch.cat([predlist,predicted.view(-1).cpu()])\n",
        "        lbllist=torch.cat([lbllist,labels.view(-1).cpu()])\n",
        "\n",
        "\n",
        "\n",
        "# with torch.no_grad():\n",
        "#     for i, (inputs, classes) in enumerate(dataloaders['val']):\n",
        "#         inputs = inputs.to(device)\n",
        "#         classes = classes.to(device)\n",
        "#         outputs = model_ft(inputs)\n",
        "#         _, preds = torch.max(outputs, 1)\n",
        "\n",
        "#         # Append batch prediction results\n",
        "#         predlist=torch.cat([predlist,preds.view(-1).cpu()])\n",
        "#         lbllist=torch.cat([lbllist,classes.view(-1).cpu()])\n",
        "\n",
        "# Confusion matrix\n",
        "conf_mat=confusion_matrix(lbllist.numpy(), predlist.numpy())\n",
        "print(conf_mat)\n",
        "\n",
        "# Per-class accuracy\n",
        "class_accuracy=100*conf_mat.diagonal()/conf_mat.sum(1)\n",
        "print(class_accuracy)"
      ]
    },
    {
      "cell_type": "code",
      "execution_count": null,
      "metadata": {
        "colab": {
          "base_uri": "https://localhost:8080/"
        },
        "id": "WxZ1toQf3iFL",
        "outputId": "4bb9c91d-39b0-48a6-91e2-f04535a54eec"
      },
      "outputs": [
        {
          "output_type": "stream",
          "name": "stdout",
          "text": [
            "              precision    recall  f1-score   support\n",
            "\n",
            "         0.0       0.67      0.39      0.49      1000\n",
            "         1.0       0.57      0.70      0.63      1000\n",
            "         2.0       0.34      0.35      0.35      1000\n",
            "         3.0       0.43      0.14      0.22      1000\n",
            "         4.0       0.43      0.24      0.31      1000\n",
            "         5.0       0.40      0.46      0.43      1000\n",
            "         6.0       0.49      0.66      0.56      1000\n",
            "         7.0       0.39      0.72      0.51      1000\n",
            "         8.0       0.60      0.60      0.60      1000\n",
            "         9.0       0.53      0.50      0.51      1000\n",
            "\n",
            "    accuracy                           0.48     10000\n",
            "   macro avg       0.49      0.48      0.46     10000\n",
            "weighted avg       0.49      0.48      0.46     10000\n",
            "\n"
          ]
        }
      ],
      "source": [
        "from sklearn.metrics import classification_report\n",
        "\n",
        "print(classification_report(lbllist.numpy(), predlist.numpy()))"
      ]
    },
    {
      "cell_type": "code",
      "execution_count": null,
      "metadata": {
        "id": "h403v1Eq3l6Q"
      },
      "outputs": [],
      "source": [
        "import pandas as pd\n",
        "import matplotlib.pyplot as plt\n",
        "\n",
        "def hist(cno):\n",
        "  df2 = pd.DataFrame()\n",
        "  for i in range(0,len(confidences[cno])):\n",
        "    df2 = df2.append(pd.DataFrame(confidences[cno][i].numpy().reshape(-1, len(confidences[cno][i].numpy()))))\n",
        "\n",
        "\n",
        "  corr = df2.corr()\n",
        "  corr.style.background_gradient(cmap='coolwarm')\n",
        "\n",
        "  arr = []\n",
        "  for i in range(0,10):\n",
        "    arr.append(sum(df2.iloc[:,i])/1000)\n",
        "\n",
        "  plt.bar(np.arange(len(arr)),arr)\n",
        "  plt.show()"
      ]
    },
    {
      "cell_type": "code",
      "execution_count": null,
      "metadata": {
        "id": "xUSpcwZa3tfc"
      },
      "outputs": [],
      "source": [
        "for i in range(0,10):\n",
        "  print(i)\n",
        "  hist(i)"
      ]
    },
    {
      "cell_type": "code",
      "execution_count": null,
      "metadata": {
        "id": "X6BZEdXi3427"
      },
      "outputs": [],
      "source": [
        "class correct\n"
      ]
    },
    {
      "cell_type": "code",
      "execution_count": null,
      "metadata": {
        "colab": {
          "base_uri": "https://localhost:8080/",
          "height": 491
        },
        "id": "LF43fUL23ynK",
        "outputId": "99520e76-057b-4d38-b8c6-377792297f49"
      },
      "outputs": [
        {
          "output_type": "stream",
          "name": "stderr",
          "text": [
            "<ipython-input-45-79a963f6e5fb>:6: FutureWarning: The frame.append method is deprecated and will be removed from pandas in a future version. Use pandas.concat instead.\n",
            "  df2 = df2.append(pd.DataFrame(outputs.cpu()[i]))\n",
            "<ipython-input-45-79a963f6e5fb>:6: FutureWarning: The frame.append method is deprecated and will be removed from pandas in a future version. Use pandas.concat instead.\n",
            "  df2 = df2.append(pd.DataFrame(outputs.cpu()[i]))\n"
          ]
        },
        {
          "output_type": "display_data",
          "data": {
            "text/plain": [
              "<Figure size 480x480 with 2 Axes>"
            ],
            "image/png": "[encoded data removed]"
          },
          "metadata": {}
        }
      ],
      "source": [
        "import pandas as pd\n",
        "df2 = pd.DataFrame()\n",
        "\n",
        "\n",
        "for i in range(0,len(outputs)):\n",
        "  df2 = df2.append(pd.DataFrame(outputs.cpu()[i]))\n",
        "\n",
        "import matplotlib.pyplot as plt\n",
        "\n",
        "plt.matshow(df2.corr())\n",
        "plt.colorbar()\n",
        "plt.show()"
      ]
    },
    {
      "cell_type": "code",
      "execution_count": null,
      "metadata": {
        "colab": {
          "base_uri": "https://localhost:8080/"
        },
        "id": "xJv8EFE33-qJ",
        "outputId": "a88fa23a-d17b-4c04-f87b-ed4a26b44766"
      },
      "outputs": [
        {
          "output_type": "stream",
          "name": "stdout",
          "text": [
            "[8, 0, 2, 7, 8, 6, 9, 8, 2, 7, 0, 0, 6, 8, 2, 9, 9, 9, 8, 9, 8, 2, 0, 9, 0, 7, 1, 8, 0, 2, 9, 9, 9, 8, 0, 0, 2, 7, 2, 8, 8, 8, 6, 0, 1, 0, 7, 8, 7, 6, 0, 8, 8, 0, 9, 1, 0, 6, 8, 4, 0, 9, 1, 8, 0, 8, 8, 8, 1, 0, 8, 2, 6, 1, 0, 5, 2, 4, 8, 0, 8, 1, 0, 9, 0, 0, 0, 0, 7, 2, 8, 8, 7, 4, 4, 0, 8, 8, 0, 8, 0, 5, 2, 1, 0, 0, 0, 0, 4, 0, 4, 8, 7, 1, 0, 0, 0, 0, 2, 0, 1, 5, 8, 9, 0, 8, 0, 0, 0, 8, 1, 2, 8, 8, 0, 8, 2, 9, 8, 0, 0, 0, 0, 2, 8, 0, 0, 1, 8, 9, 2, 9, 1, 8, 0, 7, 0, 0, 2, 7, 0, 1, 0, 2, 0, 2, 9, 0, 0, 0, 8, 2, 9, 9, 0, 0, 0, 2, 7, 0, 0, 9, 3, 0, 0, 8, 6, 5, 8, 0, 8, 0, 0, 0, 9, 2, 8, 8, 1, 8, 2, 2, 2, 5, 7, 1, 8, 0, 7, 0, 0, 0, 7, 7, 8, 2, 9, 4, 0, 7, 5, 0, 9, 0, 9, 1, 1, 0, 2, 0, 2, 8, 8, 1, 0, 0, 0, 8, 1, 8, 0, 7, 0, 9, 8, 2, 0, 0, 0, 7, 2, 1, 6, 9, 0, 2, 9, 2, 0, 7, 0, 2, 8, 2, 9, 7, 7, 7, 0, 2, 8, 9, 0, 2, 0, 0, 2, 0, 0, 0, 0, 7, 0, 0, 0, 2, 9, 0, 8, 0, 8, 8, 0, 7, 0, 8, 8, 0, 8, 7, 0, 0, 2, 2, 0, 0, 7, 2, 0, 8, 0, 9, 8, 8, 2, 9, 2, 8, 8, 6, 1, 6, 0, 7, 0, 0, 0, 7, 0, 2, 1, 0, 0, 8, 2, 0, 7, 7, 8, 2, 2, 0, 2, 0, 8, 2, 0, 0, 2, 1, 1, 0, 8, 8, 0, 6, 7, 8, 8, 7, 9, 7, 9, 0, 0, 0, 8, 0, 7, 0, 0, 0, 0, 7, 8, 2, 0, 0, 8, 8, 2, 0, 8, 5, 0, 0, 8, 0, 0, 2, 8, 0, 1, 8, 1, 8, 9, 0, 0, 8, 2, 0, 9, 8, 0, 6, 0, 2, 0, 0, 0, 0, 4, 0, 4, 0, 0, 8, 7, 2, 3, 2, 0, 0, 0, 7, 0, 0, 0, 6, 0, 8, 0, 9, 0, 1, 0, 2, 0, 1, 1, 8, 0, 0, 0, 9, 1, 2, 9, 0, 1, 7, 9, 0, 2, 0, 6, 4, 0, 8, 0, 8, 0, 0, 1, 0, 7, 0, 0, 8, 9, 7, 0, 1, 0, 1, 0, 8, 8, 2, 0, 0, 0, 1, 0, 0, 0, 8, 2, 0, 9, 8, 8, 8, 0, 0, 9, 2, 3, 8, 0, 4, 9, 6, 9, 0, 0, 0, 4, 0, 8, 9, 0, 1, 0, 0, 0, 0, 8, 0, 2, 0, 9, 0, 0, 0, 2, 4, 9, 0, 8, 0, 4, 8, 2, 9, 8, 8, 0, 0, 7, 7, 6, 7, 0, 2, 8, 0, 1, 1, 7, 8, 0, 2, 0, 9, 4, 7, 0, 1, 0, 1, 0, 0, 0, 0, 0, 8, 9, 6, 0, 0, 8, 0, 2, 0, 0, 0, 1, 8, 2, 8, 0, 2, 0, 8, 4, 9, 0, 7, 8, 3, 0, 0, 0, 8, 8, 8, 8, 4, 4, 0, 8, 0, 0, 8, 2, 0, 7, 7, 9, 1, 2, 8, 0, 2, 0, 0, 2, 7, 8, 9, 0, 8, 0, 0, 0, 6, 0, 0, 1, 0, 0, 2, 0, 9, 1, 8, 0, 8, 8, 2, 8, 0, 0, 0, 2, 5, 2, 0, 0, 8, 8, 9, 0, 8, 2, 0, 9, 0, 0, 9, 2, 8, 0, 8, 8, 2, 8, 0, 2, 2, 2, 1, 1, 0, 2, 2, 8, 0, 0, 6, 8, 8, 0, 5, 2, 8, 8, 2, 9, 5, 8, 0, 6, 0, 7, 6, 8, 2, 5, 1, 9, 8, 0, 0, 0, 1, 2, 9, 0, 8, 0, 0, 8, 7, 8, 8, 8, 9, 9, 0, 8, 2, 0, 8, 8, 0, 2, 8, 2, 0, 9, 0, 2, 0, 0, 2, 0, 0, 8, 0, 8, 8, 6, 9, 0, 8, 0, 0, 0, 0, 0, 7, 0, 9, 1, 0, 3, 0, 7, 3, 8, 0, 0, 0, 2, 0, 0, 0, 0, 0, 8, 0, 8, 8, 0, 0, 0, 6, 0, 8, 0, 0, 1, 7, 0, 8, 9, 0, 8, 9, 5, 0, 0, 1, 4, 0, 6, 5, 0, 2, 2, 0, 2, 0, 6, 0, 0, 0, 8, 8, 0, 8, 2, 0, 1, 8, 8, 8, 1, 8, 0, 8, 8, 0, 0, 0, 8, 0, 2, 7, 2, 0, 8, 2, 8, 0, 7, 8, 0, 8, 4, 0, 0, 9, 9, 9, 7, 0, 0, 7, 0, 0, 7, 0, 8, 0, 0, 8, 8, 0, 0, 0, 9, 0, 0, 0, 8, 1, 7, 8, 0, 0, 8, 2, 9, 7, 3, 7, 8, 0, 0, 0, 0, 2, 2, 6, 8, 1, 9, 0, 7, 0, 0, 3, 0, 8, 7, 8, 9, 2, 2, 0, 0, 0, 0, 0, 8, 8, 9, 7, 0, 0, 6, 0, 0, 7, 8, 0, 4, 8, 0, 4, 0, 1, 0, 0, 9, 1, 1, 9, 1, 8, 0, 2, 1, 9, 8, 0, 8, 8, 2, 7, 0, 2, 0, 2, 8, 8, 0, 0, 0, 8, 0, 9, 0, 9, 8, 8, 2, 0, 9, 0, 9, 0, 8, 8, 1, 2, 0, 0, 8, 8, 0, 2, 8, 0, 2, 8, 1, 2, 9, 0, 5, 0, 8, 8, 0, 8, 0, 0, 8, 2, 9, 0, 0, 1, 8, 1]\n",
            "[5, 1, 1, 1, 1, 1, 1, 1, 1, 1, 1, 1, 1, 1, 9, 1, 1, 1, 1, 1, 9, 1, 1, 1, 8, 1, 1, 1, 1, 8, 1, 1, 1, 9, 1, 9, 6, 1, 1, 1, 8, 9, 1, 1, 1, 1, 1, 1, 1, 2, 1, 1, 1, 9, 9, 9, 1, 1, 9, 1, 1, 1, 1, 1, 1, 6, 1, 1, 8, 1, 1, 1, 1, 1, 1, 9, 1, 1, 7, 1, 1, 1, 1, 1, 1, 9, 1, 1, 1, 1, 6, 9, 1, 1, 2, 0, 1, 1, 9, 1, 1, 1, 1, 1, 8, 1, 1, 8, 8, 1, 8, 1, 9, 1, 1, 1, 1, 1, 1, 1, 6, 1, 1, 1, 9, 3, 1, 1, 8, 1, 7, 1, 1, 1, 9, 1, 1, 9, 1, 1, 9, 1, 1, 9, 6, 9, 1, 8, 1, 1, 9, 9, 1, 9, 1, 1, 1, 1, 1, 1, 1, 2, 9, 1, 1, 1, 1, 1, 1, 1, 1, 1, 1, 1, 1, 9, 9, 9, 9, 1, 1, 1, 1, 8, 1, 1, 9, 8, 8, 1, 7, 1, 9, 9, 1, 9, 1, 1, 6, 1, 1, 1, 1, 1, 1, 9, 1, 1, 9, 1, 1, 9, 1, 1, 1, 1, 1, 1, 1, 8, 1, 1, 1, 2, 1, 1, 1, 1, 1, 1, 1, 1, 1, 3, 1, 7, 8, 9, 1, 1, 1, 1, 1, 1, 1, 1, 1, 1, 1, 1, 1, 1, 7, 1, 1, 1, 1, 1, 1, 9, 1, 5, 1, 9, 1, 1, 0, 9, 1, 9, 1, 8, 7, 7, 1, 1, 2, 1, 1, 1, 1, 1, 8, 1, 9, 1, 7, 1, 8, 1, 1, 1, 9, 9, 9, 1, 1, 9, 1, 1, 1, 1, 1, 1, 1, 9, 9, 9, 1, 1, 9, 1, 1, 1, 4, 9, 9, 1, 1, 1, 1, 1, 1, 1, 1, 1, 9, 6, 1, 1, 8, 1, 9, 1, 1, 1, 1, 1, 9, 0, 1, 1, 1, 9, 9, 1, 1, 1, 1, 1, 1, 1, 9, 1, 9, 1, 1, 1, 1, 1, 1, 8, 4, 1, 1, 1, 1, 1, 1, 1, 1, 1, 1, 7, 1, 1, 1, 1, 9, 9, 1, 1, 1, 1, 1, 1, 9, 1, 7, 6, 9, 6, 6, 1, 9, 1, 1, 1, 1, 1, 1, 1, 1, 7, 2, 1, 4, 5, 1, 1, 1, 1, 1, 1, 1, 1, 1, 9, 1, 8, 1, 1, 6, 1, 1, 8, 1, 8, 1, 1, 1, 1, 1, 1, 1, 1, 1, 1, 8, 1, 1, 1, 1, 8, 6, 1, 1, 1, 1, 1, 1, 9, 1, 1, 1, 1, 1, 1, 1, 1, 1, 1, 1, 9, 1, 8, 1, 1, 1, 1, 1, 1, 1, 1, 9, 8, 1, 1, 9, 1, 1, 1, 1, 1, 1, 1, 1, 1, 1, 1, 1, 1, 9, 8, 1, 1, 1, 0, 1, 9, 1, 1, 1, 1, 1, 1, 6, 9, 9, 9, 9, 9, 1, 9, 1, 1, 1, 9, 1, 1, 1, 1, 8, 9, 1, 1, 9, 6, 9, 1, 1, 1, 1, 1, 0, 9, 1, 1, 1, 9, 8, 7, 1, 3, 1, 1, 1, 1, 9, 1, 8, 1, 1, 1, 1, 8, 1, 1, 1, 9, 3, 3, 1, 1, 1, 1, 1, 1, 1, 6, 1, 1, 1, 1, 1, 1, 1, 8, 1, 1, 1, 6, 1, 7, 1, 1, 1, 3, 1, 9, 1, 1, 1, 4, 1, 1, 1, 1, 9, 1, 1, 1, 1, 1, 9, 9, 1, 1, 1, 1, 1, 1, 8, 3, 9, 9, 9, 9, 1, 1, 9, 9, 3, 9, 6, 9, 2, 1, 1, 1, 1, 1, 9, 1, 1, 9, 1, 1, 1, 1, 1, 1, 1, 1, 6, 7, 4, 9, 1, 1, 1, 9, 1, 1, 1, 1, 5, 1, 9, 1, 1, 1, 9, 1, 1, 1, 1, 1, 1, 1, 1, 1, 9, 1, 1, 1, 1, 9, 8, 1, 9, 1, 1, 1, 1, 1, 1, 1, 1, 1, 8, 1, 1, 7, 1, 6, 1, 1, 6, 1, 1, 1, 1, 1, 1, 9, 1, 1, 1, 6, 9, 1, 1, 1, 6, 7, 1, 1, 9, 1, 6, 1, 1, 1, 8, 1, 9, 1, 1, 1, 1, 1, 1, 6, 9, 1, 9, 0, 3, 1, 1, 1, 8, 1, 1, 9, 1, 9, 1, 1, 1, 9, 1, 6, 1, 9, 9, 8, 1, 1, 8, 1, 1, 1, 1, 1, 1, 1, 7, 9, 1, 8, 1, 1, 1, 8, 1, 1, 8, 9, 1, 9, 1, 1, 1, 1, 9, 1, 1, 1, 9, 1, 2, 8, 1, 8, 1, 1, 9, 1, 1, 1, 1, 1, 1, 1, 1, 1, 1, 1, 9, 1, 1, 1, 1, 1, 1, 1, 1, 1, 1, 0, 5, 8, 9, 1, 9, 1, 1, 1, 6, 4, 9, 1, 1, 1, 8, 1, 8, 1, 1, 1, 1, 6, 9, 9, 1, 3, 1, 9, 2, 1, 1, 9, 1, 1, 1, 1, 1, 7, 7, 9, 1, 1, 8, 1, 1, 1, 1, 1, 1, 7, 1, 1, 6, 1, 1, 1, 1, 9, 9, 1, 1, 0, 1, 1, 1, 1, 3, 1, 9, 1, 1, 6, 1, 1, 1, 1, 1, 1, 1, 1, 6, 1, 1, 6, 1, 9, 1, 1, 1, 4, 1, 7, 1, 8, 8, 1, 1, 1, 1, 1, 9, 1, 9, 1, 1, 1, 9, 1, 9, 1, 1, 1, 1, 1, 1, 1, 6, 1, 1, 1, 1, 1, 1, 1, 1, 9, 6, 1, 9, 7, 8, 9, 1, 1, 9, 7, 4, 1, 1, 1, 1, 1, 1, 1, 1, 1, 6, 9, 1, 1, 9, 1, 1, 1, 1, 1, 1, 1, 1, 7, 1, 8, 9, 9, 1, 1, 0, 1, 1, 1, 9, 1, 1, 8, 1, 1, 1, 1]\n",
            "[6, 3, 4, 0, 4, 2, 2, 5, 2, 3, 2, 2, 3, 2, 5, 3, 2, 2, 6, 2, 4, 7, 2, 1, 5, 2, 2, 7, 2, 6, 2, 2, 7, 6, 7, 2, 2, 2, 5, 0, 5, 5, 2, 2, 4, 5, 2, 2, 1, 2, 2, 6, 6, 2, 2, 4, 6, 2, 2, 7, 2, 8, 0, 4, 2, 2, 7, 8, 8, 1, 0, 5, 7, 0, 2, 4, 2, 2, 7, 7, 4, 2, 7, 2, 5, 7, 2, 4, 7, 2, 0, 5, 6, 5, 5, 5, 5, 7, 4, 2, 2, 2, 2, 2, 7, 5, 2, 2, 5, 0, 0, 6, 4, 4, 7, 2, 2, 5, 5, 6, 2, 5, 0, 5, 7, 2, 2, 0, 5, 2, 7, 5, 2, 7, 2, 0, 0, 7, 0, 2, 6, 6, 6, 2, 2, 6, 6, 4, 4, 7, 2, 2, 6, 2, 5, 4, 5, 2, 5, 6, 7, 2, 6, 5, 7, 2, 7, 2, 7, 7, 2, 5, 6, 1, 2, 2, 6, 2, 6, 5, 5, 7, 2, 7, 1, 7, 7, 0, 4, 2, 0, 7, 5, 0, 0, 2, 2, 2, 4, 7, 2, 2, 2, 6, 2, 7, 2, 6, 2, 6, 5, 7, 7, 5, 4, 4, 0, 2, 5, 2, 0, 2, 8, 2, 7, 2, 6, 5, 4, 0, 2, 7, 2, 2, 4, 2, 2, 6, 7, 2, 7, 7, 2, 2, 5, 2, 2, 2, 6, 2, 2, 2, 2, 2, 9, 7, 7, 6, 2, 6, 3, 5, 5, 8, 2, 6, 5, 2, 2, 7, 6, 5, 5, 2, 2, 4, 6, 3, 4, 2, 7, 6, 2, 6, 7, 8, 5, 6, 2, 5, 5, 7, 7, 1, 2, 9, 2, 7, 6, 2, 2, 2, 7, 5, 4, 9, 5, 2, 2, 2, 2, 6, 5, 6, 9, 7, 9, 5, 9, 4, 7, 2, 2, 6, 2, 2, 8, 9, 2, 7, 7, 2, 9, 6, 0, 2, 4, 7, 4, 5, 2, 5, 7, 7, 4, 2, 2, 6, 5, 7, 7, 2, 7, 2, 6, 9, 3, 2, 0, 8, 5, 6, 6, 2, 7, 5, 7, 2, 7, 2, 5, 2, 2, 6, 4, 2, 4, 2, 2, 4, 6, 2, 4, 7, 4, 7, 2, 2, 2, 4, 5, 2, 4, 7, 1, 7, 5, 7, 6, 0, 5, 2, 5, 7, 2, 7, 2, 2, 5, 5, 2, 7, 7, 5, 7, 2, 2, 7, 2, 5, 7, 5, 6, 6, 6, 3, 4, 0, 2, 2, 5, 2, 2, 2, 6, 2, 4, 7, 2, 2, 5, 5, 5, 4, 6, 2, 2, 7, 2, 7, 4, 2, 5, 8, 7, 6, 4, 0, 3, 7, 2, 6, 5, 5, 2, 5, 5, 5, 2, 3, 5, 6, 2, 2, 2, 6, 6, 2, 8, 7, 7, 5, 2, 3, 2, 2, 5, 2, 4, 6, 2, 7, 6, 7, 7, 5, 2, 5, 7, 0, 4, 2, 2, 6, 5, 2, 1, 4, 7, 0, 6, 5, 2, 2, 1, 2, 7, 6, 6, 2, 2, 6, 6, 2, 2, 7, 2, 7, 2, 1, 6, 2, 2, 5, 9, 2, 2, 4, 9, 2, 3, 6, 1, 3, 8, 6, 2, 6, 6, 7, 8, 9, 5, 7, 2, 3, 2, 2, 2, 4, 2, 4, 5, 2, 5, 2, 9, 2, 5, 2, 7, 5, 2, 6, 5, 2, 6, 7, 5, 2, 6, 2, 2, 6, 4, 7, 5, 4, 5, 5, 7, 2, 7, 5, 6, 8, 5, 5, 2, 2, 2, 7, 7, 5, 5, 7, 3, 6, 9, 5, 2, 7, 5, 7, 3, 2, 2, 5, 2, 2, 7, 6, 9, 6, 7, 2, 6, 2, 6, 5, 5, 2, 2, 2, 2, 7, 7, 5, 2, 5, 2, 0, 5, 6, 7, 2, 5, 0, 7, 4, 5, 2, 2, 2, 9, 2, 4, 5, 2, 5, 2, 6, 7, 2, 2, 5, 2, 5, 4, 5, 2, 6, 2, 2, 5, 7, 5, 2, 2, 5, 3, 2, 2, 2, 4, 8, 0, 3, 6, 0, 6, 2, 7, 2, 6, 2, 2, 0, 2, 2, 2, 2, 2, 2, 5, 1, 2, 2, 2, 2, 2, 8, 5, 2, 2, 6, 2, 7, 0, 2, 7, 7, 4, 2, 2, 2, 2, 4, 5, 2, 2, 3, 6, 2, 2, 2, 7, 6, 1, 5, 1, 7, 5, 4, 5, 5, 4, 5, 2, 2, 2, 2, 4, 8, 4, 2, 7, 7, 1, 0, 9, 5, 4, 2, 6, 2, 2, 4, 5, 5, 7, 2, 6, 7, 7, 7, 6, 2, 2, 2, 2, 2, 2, 5, 0, 5, 7, 2, 0, 4, 8, 1, 2, 5, 0, 2, 2, 5, 8, 5, 4, 7, 5, 0, 5, 2, 6, 2, 6, 2, 2, 4, 9, 5, 2, 7, 2, 2, 2, 6, 2, 5, 2, 6, 2, 5, 7, 7, 5, 5, 0, 2, 6, 7, 5, 2, 5, 0, 4, 3, 6, 7, 5, 9, 2, 0, 2, 4, 5, 2, 7, 2, 5, 6, 6, 1, 2, 8, 5, 5, 5, 5, 3, 5, 3, 2, 4, 5, 2, 2, 7, 2, 2, 0, 7, 5, 4, 2, 2, 6, 5, 7, 2, 2, 1, 2, 2, 2, 5, 7, 4, 6, 2, 2, 8, 7, 2, 1, 5, 2, 9, 6, 6, 2, 7, 2, 2, 2, 5, 6, 3, 2, 4, 5, 6, 7, 9, 2, 5, 6, 6, 7, 2, 2, 5, 2, 7, 0, 2, 8, 6, 5, 5, 6, 6, 5, 8, 2, 5, 2, 5, 7, 2, 6, 7, 1, 4, 7, 2, 4, 6, 6, 6, 2, 2, 2, 7, 4, 2, 6, 2, 4, 2, 2, 3, 5, 5, 1, 5, 5, 3, 0, 2, 6, 4, 4, 2, 6, 6, 6, 2, 2, 0, 4, 2, 7, 5, 7, 7, 5, 2, 2, 3, 7, 0, 0, 2, 2, 6, 2]\n",
            "[3, 5, 3, 3, 6, 9, 5, 3, 5, 4, 6, 6, 7, 4, 5, 5, 8, 7, 3, 2, 7, 6, 5, 6, 2, 5, 4, 5, 5, 7, 5, 6, 4, 6, 2, 7, 3, 9, 5, 5, 5, 2, 6, 7, 2, 2, 7, 5, 6, 3, 7, 5, 6, 7, 5, 6, 3, 3, 7, 6, 3, 6, 3, 5, 5, 6, 4, 6, 5, 6, 3, 4, 7, 7, 7, 5, 0, 7, 7, 1, 6, 2, 6, 7, 6, 2, 9, 6, 5, 0, 2, 6, 7, 5, 5, 3, 5, 6, 2, 7, 5, 7, 5, 5, 5, 3, 0, 2, 1, 5, 7, 8, 5, 7, 2, 5, 5, 2, 2, 7, 7, 6, 7, 6, 5, 7, 3, 2, 5, 3, 3, 7, 7, 5, 2, 7, 2, 2, 4, 7, 5, 7, 7, 7, 5, 5, 5, 5, 5, 5, 7, 3, 6, 8, 9, 6, 5, 6, 2, 6, 4, 7, 7, 6, 5, 3, 7, 5, 4, 9, 7, 7, 6, 7, 5, 5, 7, 6, 7, 4, 6, 6, 3, 3, 5, 6, 2, 6, 1, 7, 5, 7, 9, 5, 5, 6, 2, 7, 5, 6, 6, 2, 5, 3, 4, 5, 6, 5, 6, 3, 9, 2, 6, 3, 5, 9, 9, 2, 5, 5, 5, 7, 7, 5, 3, 9, 4, 7, 5, 6, 5, 5, 4, 2, 3, 6, 5, 3, 6, 6, 7, 6, 2, 6, 5, 8, 7, 7, 5, 5, 5, 7, 5, 6, 7, 4, 6, 2, 6, 5, 3, 7, 6, 5, 5, 6, 3, 7, 7, 1, 7, 5, 7, 3, 5, 5, 6, 1, 3, 9, 3, 5, 3, 7, 6, 5, 7, 5, 3, 1, 4, 2, 2, 4, 3, 3, 7, 2, 5, 2, 5, 2, 2, 5, 5, 3, 6, 6, 3, 5, 2, 7, 7, 7, 3, 9, 5, 2, 7, 5, 5, 5, 3, 5, 3, 2, 5, 6, 6, 5, 5, 6, 2, 6, 5, 4, 1, 4, 3, 3, 7, 7, 5, 5, 5, 6, 9, 5, 6, 2, 5, 5, 3, 3, 2, 5, 5, 3, 7, 7, 9, 5, 5, 6, 3, 5, 5, 6, 5, 3, 7, 2, 5, 6, 3, 3, 6, 7, 9, 7, 5, 2, 9, 7, 4, 3, 3, 2, 6, 1, 5, 5, 6, 3, 3, 5, 5, 7, 8, 6, 7, 3, 6, 3, 7, 7, 5, 7, 5, 7, 3, 6, 7, 7, 5, 7, 7, 7, 5, 3, 2, 8, 7, 6, 4, 3, 6, 5, 9, 6, 6, 6, 3, 7, 3, 5, 9, 7, 3, 5, 7, 7, 5, 4, 7, 7, 6, 5, 3, 5, 7, 6, 5, 3, 6, 2, 2, 3, 3, 3, 5, 3, 4, 7, 7, 3, 1, 3, 2, 2, 9, 5, 5, 4, 2, 5, 7, 5, 5, 2, 5, 5, 3, 6, 3, 3, 5, 3, 9, 3, 5, 6, 7, 7, 6, 2, 3, 6, 6, 6, 3, 3, 5, 5, 5, 5, 4, 3, 7, 5, 5, 9, 3, 6, 7, 3, 7, 7, 7, 7, 5, 5, 1, 5, 6, 7, 5, 9, 9, 6, 7, 5, 3, 9, 2, 3, 4, 7, 5, 5, 5, 7, 5, 3, 5, 7, 7, 6, 6, 6, 7, 7, 4, 5, 7, 2, 6, 7, 5, 3, 5, 5, 9, 3, 2, 2, 7, 7, 6, 7, 6, 5, 7, 7, 7, 3, 5, 7, 5, 3, 3, 3, 5, 6, 2, 3, 7, 7, 6, 5, 6, 7, 6, 6, 2, 5, 7, 7, 9, 6, 7, 6, 7, 5, 6, 3, 5, 4, 6, 6, 5, 7, 2, 7, 6, 4, 5, 2, 8, 5, 7, 6, 9, 2, 5, 4, 3, 4, 9, 4, 3, 5, 7, 3, 8, 5, 7, 3, 3, 1, 5, 3, 5, 2, 5, 7, 7, 7, 6, 7, 3, 7, 7, 6, 6, 3, 6, 3, 5, 6, 6, 5, 5, 6, 3, 7, 5, 6, 3, 5, 3, 3, 5, 7, 2, 7, 4, 2, 5, 5, 2, 6, 7, 2, 1, 6, 4, 6, 5, 7, 7, 5, 6, 3, 5, 4, 5, 4, 7, 7, 7, 3, 3, 3, 5, 6, 2, 7, 5, 3, 7, 5, 2, 3, 7, 6, 6, 9, 9, 5, 3, 7, 6, 6, 6, 6, 4, 5, 5, 5, 5, 6, 5, 6, 5, 7, 1, 5, 2, 5, 5, 6, 3, 7, 3, 6, 2, 7, 5, 5, 3, 7, 7, 7, 6, 2, 5, 5, 2, 5, 5, 5, 3, 5, 5, 7, 7, 3, 4, 6, 7, 7, 6, 4, 7, 8, 5, 7, 6, 3, 8, 7, 7, 2, 3, 8, 7, 5, 2, 5, 5, 5, 5, 7, 7, 2, 4, 5, 5, 3, 5, 3, 6, 3, 3, 5, 5, 3, 5, 5, 7, 5, 6, 2, 9, 5, 5, 7, 6, 6, 7, 5, 8, 7, 7, 5, 5, 5, 3, 6, 7, 0, 5, 6, 5, 3, 3, 7, 6, 7, 0, 5, 6, 6, 3, 7, 7, 2, 5, 5, 2, 3, 7, 5, 7, 5, 2, 2, 6, 9, 5, 7, 2, 1, 5, 7, 6, 7, 7, 3, 6, 6, 5, 2, 1, 5, 7, 3, 6, 2, 5, 8, 2, 6, 6, 3, 7, 6, 5, 6, 7, 5, 6, 7, 5, 6, 4, 7, 7, 7, 4, 1, 3, 3, 5, 5, 5, 6, 6, 6, 5, 7, 2, 6, 6, 9, 5, 3, 3, 6, 5, 2, 7, 5, 3, 0, 7, 6, 7, 7, 5, 5, 7, 6, 2, 5, 7, 5, 3, 9, 6, 7, 6, 2, 6, 4, 2, 7, 5, 2, 5, 5, 8, 5, 5, 9, 5, 7, 3, 4, 7, 7, 6, 4, 7, 6, 2, 5, 6, 3, 7, 5, 4, 2, 5, 3, 6, 3, 3, 6, 4, 5, 5, 5, 1, 5, 7, 6, 1, 6, 2, 7, 4, 5, 7, 5, 2, 3, 6, 6]\n",
            "[2, 6, 2, 7, 9, 2, 7, 2, 4, 7, 2, 7, 7, 6, 7, 9, 5, 4, 4, 2, 4, 7, 4, 7, 5, 2, 7, 7, 4, 2, 7, 6, 5, 7, 2, 6, 7, 6, 7, 7, 6, 6, 2, 4, 8, 2, 5, 2, 2, 7, 1, 1, 4, 7, 2, 7, 4, 7, 2, 6, 2, 5, 2, 9, 3, 2, 2, 4, 5, 3, 2, 2, 7, 4, 2, 3, 4, 4, 7, 4, 4, 4, 3, 5, 4, 4, 4, 4, 7, 5, 4, 6, 1, 4, 2, 2, 2, 7, 3, 4, 7, 2, 4, 0, 8, 2, 7, 4, 2, 4, 7, 6, 7, 3, 2, 1, 8, 7, 4, 4, 2, 4, 4, 7, 4, 3, 5, 7, 7, 3, 4, 4, 4, 2, 2, 5, 1, 2, 2, 4, 7, 7, 4, 7, 2, 2, 7, 2, 2, 6, 2, 4, 4, 6, 7, 2, 5, 2, 5, 1, 7, 4, 7, 2, 5, 0, 4, 8, 7, 2, 2, 4, 2, 5, 2, 6, 7, 7, 7, 2, 8, 7, 6, 4, 2, 7, 6, 2, 4, 7, 6, 5, 2, 7, 4, 5, 6, 7, 2, 7, 4, 6, 4, 4, 7, 5, 8, 4, 7, 4, 4, 4, 7, 5, 2, 4, 6, 2, 6, 4, 4, 4, 2, 4, 4, 7, 2, 6, 0, 5, 7, 4, 4, 2, 9, 7, 6, 2, 5, 6, 4, 7, 5, 1, 7, 6, 7, 7, 4, 2, 3, 6, 6, 5, 4, 7, 2, 5, 4, 6, 2, 4, 2, 2, 0, 4, 6, 4, 7, 5, 6, 4, 2, 2, 7, 5, 4, 6, 2, 7, 7, 2, 6, 7, 2, 7, 0, 4, 2, 4, 7, 2, 4, 2, 6, 6, 2, 9, 7, 0, 2, 4, 6, 7, 8, 2, 7, 4, 7, 2, 6, 4, 4, 7, 5, 6, 5, 7, 1, 6, 2, 4, 2, 3, 6, 4, 6, 6, 7, 6, 1, 5, 6, 7, 7, 6, 2, 6, 2, 4, 4, 2, 4, 6, 2, 4, 7, 4, 4, 1, 2, 4, 2, 2, 6, 6, 6, 4, 4, 7, 6, 6, 2, 2, 2, 7, 7, 2, 4, 7, 7, 5, 6, 4, 5, 7, 6, 2, 7, 2, 2, 2, 0, 2, 2, 4, 3, 6, 2, 7, 7, 7, 4, 5, 7, 2, 7, 4, 7, 2, 4, 7, 4, 2, 6, 0, 4, 2, 6, 5, 2, 4, 7, 7, 5, 2, 0, 7, 7, 6, 4, 7, 2, 6, 2, 7, 7, 7, 6, 2, 4, 2, 4, 2, 7, 7, 7, 6, 6, 5, 6, 4, 4, 2, 5, 7, 4, 6, 6, 2, 6, 6, 2, 6, 4, 4, 4, 5, 7, 2, 4, 7, 5, 6, 4, 4, 7, 4, 3, 0, 7, 4, 7, 7, 2, 4, 4, 7, 5, 7, 4, 2, 2, 4, 7, 6, 4, 5, 7, 7, 7, 7, 2, 4, 7, 4, 2, 2, 5, 6, 7, 4, 2, 4, 4, 4, 2, 7, 4, 4, 4, 2, 0, 0, 6, 0, 5, 2, 6, 2, 4, 4, 6, 5, 6, 7, 7, 6, 4, 7, 5, 6, 2, 6, 4, 1, 4, 4, 7, 6, 2, 7, 6, 7, 7, 4, 8, 5, 2, 3, 6, 7, 4, 7, 4, 7, 7, 7, 7, 2, 6, 4, 6, 5, 5, 2, 4, 7, 5, 4, 6, 2, 2, 7, 4, 2, 8, 4, 4, 7, 7, 5, 4, 2, 7, 6, 2, 4, 7, 7, 4, 5, 4, 2, 1, 7, 0, 7, 4, 7, 2, 5, 2, 5, 6, 2, 2, 4, 6, 0, 7, 2, 7, 6, 8, 6, 7, 4, 8, 7, 4, 7, 2, 4, 4, 4, 6, 6, 6, 7, 4, 7, 9, 4, 2, 5, 4, 7, 4, 2, 2, 4, 6, 7, 5, 7, 2, 4, 4, 7, 4, 2, 7, 4, 7, 4, 2, 4, 5, 5, 6, 5, 2, 4, 6, 4, 6, 2, 7, 4, 4, 4, 4, 2, 4, 3, 6, 4, 4, 2, 2, 7, 7, 6, 7, 4, 4, 2, 4, 4, 7, 7, 4, 7, 2, 2, 4, 5, 6, 3, 6, 7, 4, 2, 7, 2, 5, 7, 6, 7, 2, 4, 2, 6, 7, 2, 6, 2, 7, 1, 7, 2, 7, 4, 6, 0, 7, 6, 3, 2, 2, 4, 2, 2, 9, 7, 6, 4, 7, 4, 3, 7, 5, 6, 9, 7, 6, 1, 2, 4, 5, 2, 2, 2, 2, 6, 2, 7, 2, 4, 4, 4, 6, 4, 7, 0, 6, 7, 6, 4, 2, 2, 4, 2, 2, 4, 7, 7, 7, 6, 2, 4, 2, 6, 2, 4, 5, 1, 2, 5, 2, 5, 7, 4, 4, 4, 2, 2, 7, 5, 6, 5, 1, 6, 5, 2, 6, 4, 6, 2, 6, 7, 4, 7, 4, 6, 7, 2, 7, 7, 2, 6, 4, 8, 7, 8, 4, 5, 8, 4, 2, 7, 2, 1, 7, 7, 7, 7, 6, 4, 7, 6, 4, 6, 2, 2, 2, 6, 4, 4, 6, 6, 1, 6, 4, 6, 4, 2, 7, 2, 7, 2, 4, 8, 0, 7, 4, 4, 4, 2, 2, 2, 1, 7, 5, 3, 4, 2, 6, 2, 4, 6, 4, 7, 2, 7, 7, 7, 7, 4, 4, 8, 7, 1, 6, 7, 4, 4, 2, 5, 8, 5, 4, 4, 2, 7, 2, 2, 5, 7, 5, 7, 7, 5, 6, 7, 4, 2, 6, 2, 2, 2, 4, 4, 6, 4, 4, 0, 7, 4, 4, 4, 2, 4, 2, 4, 0, 6, 2, 2, 6, 6, 7, 6, 7, 4, 4, 7, 2, 5, 7, 6, 7, 6, 7, 2, 7, 2, 4, 7, 7, 0, 7, 4, 7, 2, 6, 7, 7, 4, 4, 1, 2, 3, 5, 7, 7, 2, 4, 6, 2, 2, 2, 2, 7, 2, 6, 4, 6, 7, 7, 4, 8, 4, 7, 7, 7, 2, 6, 7]\n",
            "[6, 5, 2, 7, 5, 5, 5, 7, 7, 2, 5, 7, 5, 3, 7, 5, 7, 6, 7, 2, 5, 5, 7, 6, 7, 5, 7, 5, 5, 5, 5, 5, 7, 5, 5, 5, 7, 5, 4, 7, 5, 5, 5, 7, 5, 7, 7, 2, 5, 5, 7, 3, 7, 6, 2, 5, 5, 2, 5, 7, 6, 5, 2, 5, 5, 5, 5, 5, 3, 5, 5, 2, 5, 5, 6, 5, 3, 5, 2, 5, 5, 7, 7, 5, 7, 5, 5, 0, 5, 5, 7, 5, 7, 2, 7, 2, 5, 2, 6, 5, 5, 5, 2, 5, 2, 5, 5, 9, 7, 7, 7, 5, 3, 5, 2, 2, 3, 6, 5, 5, 7, 2, 2, 7, 4, 7, 7, 7, 7, 5, 5, 2, 5, 5, 5, 3, 5, 7, 4, 5, 9, 5, 7, 4, 7, 5, 7, 7, 6, 2, 2, 6, 5, 6, 6, 5, 7, 5, 5, 5, 5, 5, 7, 1, 2, 7, 5, 5, 5, 5, 5, 5, 9, 2, 5, 5, 5, 7, 2, 5, 5, 5, 7, 5, 6, 5, 6, 6, 5, 6, 5, 6, 7, 3, 7, 5, 5, 7, 5, 8, 5, 7, 7, 5, 5, 5, 5, 5, 5, 3, 7, 5, 5, 5, 7, 7, 6, 5, 5, 5, 5, 2, 7, 3, 4, 5, 2, 7, 7, 2, 5, 5, 7, 4, 7, 6, 3, 5, 5, 7, 5, 5, 7, 5, 2, 7, 4, 7, 7, 7, 6, 7, 0, 7, 5, 5, 6, 5, 4, 3, 5, 7, 2, 7, 7, 7, 7, 2, 7, 5, 5, 3, 5, 2, 5, 7, 5, 5, 5, 5, 5, 5, 5, 2, 2, 5, 5, 7, 6, 5, 5, 5, 5, 5, 5, 7, 7, 9, 2, 6, 7, 7, 5, 8, 7, 7, 7, 4, 7, 7, 7, 3, 7, 7, 7, 5, 9, 7, 6, 7, 5, 5, 5, 4, 7, 2, 8, 7, 5, 4, 5, 5, 5, 5, 5, 7, 4, 7, 2, 3, 5, 2, 5, 1, 5, 4, 5, 5, 5, 5, 7, 5, 8, 7, 6, 5, 7, 5, 7, 7, 4, 7, 7, 7, 2, 5, 7, 7, 7, 5, 5, 2, 2, 5, 7, 5, 2, 2, 5, 6, 5, 4, 5, 5, 3, 7, 5, 2, 6, 5, 7, 3, 2, 1, 5, 5, 5, 5, 2, 3, 7, 1, 5, 5, 6, 5, 5, 7, 2, 7, 5, 7, 5, 7, 7, 7, 2, 5, 5, 2, 5, 5, 7, 5, 5, 6, 5, 7, 7, 6, 2, 5, 5, 5, 5, 6, 6, 2, 5, 5, 7, 5, 3, 4, 5, 5, 5, 5, 5, 2, 5, 6, 2, 2, 2, 0, 5, 7, 5, 7, 2, 5, 6, 5, 5, 4, 5, 5, 3, 5, 7, 6, 5, 5, 5, 7, 3, 7, 2, 5, 6, 3, 7, 2, 5, 3, 5, 7, 2, 5, 5, 7, 7, 5, 5, 3, 2, 5, 9, 5, 7, 7, 5, 7, 2, 6, 5, 5, 5, 5, 5, 5, 7, 2, 7, 5, 5, 5, 5, 5, 5, 2, 5, 8, 5, 6, 5, 7, 7, 3, 7, 5, 4, 5, 5, 5, 7, 6, 5, 5, 5, 6, 5, 5, 5, 5, 6, 5, 4, 4, 5, 7, 2, 5, 5, 7, 7, 7, 5, 2, 7, 7, 5, 5, 5, 5, 7, 5, 7, 5, 5, 3, 6, 7, 9, 5, 7, 5, 3, 5, 5, 6, 5, 5, 5, 7, 5, 7, 6, 7, 3, 7, 5, 2, 7, 5, 5, 7, 5, 7, 5, 5, 5, 4, 5, 5, 3, 2, 7, 5, 6, 7, 5, 5, 5, 5, 2, 3, 6, 7, 6, 5, 5, 2, 5, 5, 5, 5, 5, 5, 6, 5, 5, 6, 6, 5, 5, 5, 9, 2, 5, 2, 7, 5, 7, 4, 5, 5, 5, 7, 7, 7, 5, 5, 2, 5, 1, 3, 5, 5, 7, 5, 5, 5, 2, 7, 2, 9, 4, 2, 5, 5, 6, 5, 5, 5, 7, 7, 2, 5, 7, 5, 3, 7, 5, 6, 5, 7, 6, 1, 5, 2, 5, 6, 1, 2, 4, 5, 7, 2, 3, 5, 2, 7, 7, 4, 7, 7, 5, 2, 4, 5, 5, 8, 2, 7, 7, 5, 7, 7, 6, 5, 2, 4, 5, 5, 4, 7, 7, 3, 5, 5, 7, 3, 5, 5, 5, 7, 3, 5, 5, 5, 5, 5, 2, 5, 5, 7, 7, 5, 7, 5, 5, 5, 7, 5, 3, 5, 5, 2, 2, 5, 5, 5, 5, 5, 7, 7, 6, 5, 5, 7, 2, 5, 6, 2, 7, 7, 6, 5, 5, 6, 7, 5, 9, 7, 5, 5, 7, 5, 5, 5, 7, 6, 6, 5, 5, 8, 5, 5, 7, 7, 5, 7, 2, 6, 0, 7, 5, 5, 3, 6, 7, 5, 5, 4, 5, 5, 5, 6, 5, 7, 5, 5, 7, 5, 3, 5, 5, 5, 4, 7, 7, 2, 7, 7, 5, 4, 5, 7, 5, 5, 6, 7, 2, 5, 5, 2, 2, 7, 3, 6, 5, 7, 5, 7, 7, 5, 5, 3, 5, 5, 2, 5, 5, 7, 3, 7, 5, 5, 5, 7, 5, 5, 2, 7, 5, 7, 5, 7, 5, 5, 3, 5, 5, 3, 2, 7, 3, 5, 5, 7, 5, 7, 5, 5, 5, 7, 5, 5, 7, 5, 5, 5, 7, 5, 5, 4, 9, 5, 7, 5, 5, 5, 5, 5, 5, 5, 1, 7, 5, 5, 5, 3, 5, 2, 5, 4, 3, 7, 5, 7, 2, 6, 7, 5, 2, 5, 5, 2, 2, 6, 5, 7, 5, 5, 7, 7, 5, 4, 7, 5, 8, 5, 5, 5, 7, 5, 5, 7, 2, 7, 4, 2, 7, 5, 8, 7, 3, 5, 7, 5, 7, 5, 7, 3, 5, 4, 1, 6, 2, 3, 7, 5, 2, 6, 7, 7, 5, 5, 7, 3, 5, 5, 7, 7, 7, 3, 7, 5]\n",
            "[6, 6, 6, 6, 6, 5, 6, 6, 6, 2, 4, 6, 5, 6, 6, 6, 6, 6, 2, 4, 7, 6, 6, 9, 6, 6, 6, 6, 7, 6, 3, 6, 6, 6, 1, 6, 4, 2, 6, 6, 6, 6, 6, 6, 6, 6, 6, 6, 6, 6, 9, 6, 4, 6, 6, 6, 6, 6, 6, 6, 6, 6, 6, 2, 7, 7, 7, 6, 6, 6, 6, 6, 6, 6, 6, 7, 6, 6, 6, 7, 6, 2, 7, 2, 6, 4, 6, 6, 2, 9, 7, 6, 6, 6, 6, 2, 6, 4, 2, 3, 5, 6, 6, 6, 2, 6, 6, 6, 7, 9, 6, 6, 6, 1, 6, 6, 6, 5, 5, 5, 7, 6, 6, 6, 6, 6, 6, 6, 6, 7, 5, 6, 3, 6, 6, 6, 6, 2, 6, 6, 6, 6, 6, 6, 6, 6, 6, 6, 5, 6, 4, 6, 6, 6, 6, 6, 5, 4, 2, 6, 7, 7, 6, 6, 7, 6, 6, 6, 5, 6, 6, 6, 6, 6, 6, 6, 6, 6, 6, 6, 6, 6, 6, 6, 6, 6, 6, 6, 6, 6, 7, 6, 6, 7, 6, 6, 4, 8, 6, 5, 4, 4, 6, 7, 6, 7, 6, 6, 5, 6, 6, 6, 5, 2, 6, 6, 6, 6, 6, 6, 2, 9, 6, 6, 6, 6, 6, 2, 6, 6, 6, 5, 4, 6, 2, 6, 6, 6, 3, 6, 6, 5, 2, 6, 6, 6, 6, 6, 6, 6, 6, 3, 1, 6, 2, 4, 6, 9, 5, 6, 5, 6, 6, 6, 6, 6, 6, 6, 6, 6, 6, 6, 7, 6, 3, 6, 6, 4, 6, 6, 6, 2, 6, 6, 9, 6, 6, 6, 6, 7, 6, 2, 6, 6, 6, 6, 9, 6, 2, 6, 6, 4, 6, 1, 5, 6, 6, 6, 6, 9, 6, 1, 6, 6, 3, 2, 6, 6, 1, 6, 6, 6, 6, 6, 3, 6, 7, 6, 6, 6, 6, 9, 6, 2, 0, 9, 6, 6, 6, 6, 6, 9, 3, 6, 7, 6, 6, 6, 6, 6, 6, 6, 2, 6, 6, 6, 6, 6, 6, 6, 6, 4, 7, 2, 6, 6, 6, 2, 6, 6, 4, 6, 3, 6, 6, 6, 6, 7, 7, 3, 6, 6, 6, 4, 6, 6, 4, 6, 4, 6, 6, 5, 6, 6, 4, 7, 6, 6, 6, 6, 2, 6, 6, 6, 6, 6, 6, 7, 3, 6, 6, 6, 6, 6, 6, 7, 6, 6, 6, 6, 6, 6, 9, 5, 7, 4, 2, 6, 2, 4, 6, 5, 4, 6, 6, 5, 6, 6, 3, 4, 6, 9, 6, 6, 6, 6, 6, 6, 7, 6, 4, 6, 6, 2, 6, 2, 6, 1, 6, 6, 5, 7, 6, 6, 4, 6, 6, 6, 2, 6, 6, 6, 9, 6, 9, 2, 6, 4, 6, 6, 6, 6, 6, 6, 6, 6, 6, 3, 9, 6, 6, 6, 6, 6, 6, 6, 6, 6, 5, 6, 6, 7, 6, 6, 6, 6, 7, 6, 6, 1, 6, 6, 6, 6, 6, 6, 6, 5, 4, 6, 6, 6, 6, 6, 6, 4, 6, 6, 6, 6, 6, 6, 0, 6, 6, 6, 6, 6, 4, 3, 6, 6, 6, 3, 5, 6, 6, 4, 6, 6, 6, 4, 1, 6, 9, 6, 6, 6, 5, 6, 6, 1, 6, 6, 7, 6, 6, 6, 6, 5, 6, 7, 6, 4, 6, 6, 6, 6, 6, 6, 6, 4, 4, 6, 1, 6, 6, 2, 6, 5, 6, 6, 7, 6, 6, 6, 6, 6, 6, 2, 7, 6, 6, 6, 7, 6, 7, 7, 7, 4, 6, 6, 6, 6, 6, 6, 6, 6, 6, 7, 7, 2, 4, 6, 6, 4, 2, 6, 6, 1, 6, 5, 7, 6, 7, 6, 4, 6, 6, 6, 6, 6, 6, 6, 4, 6, 6, 6, 5, 5, 4, 6, 4, 2, 6, 6, 6, 5, 3, 6, 6, 7, 3, 4, 6, 6, 6, 6, 3, 7, 6, 5, 6, 6, 6, 6, 6, 6, 6, 6, 6, 6, 6, 4, 6, 6, 6, 6, 4, 6, 1, 6, 6, 7, 5, 6, 6, 5, 6, 3, 6, 6, 6, 6, 5, 6, 6, 3, 6, 6, 6, 5, 6, 6, 6, 7, 6, 3, 2, 6, 6, 6, 6, 4, 6, 6, 6, 6, 6, 6, 6, 6, 7, 6, 6, 6, 6, 6, 7, 6, 6, 7, 6, 9, 6, 6, 6, 6, 7, 6, 6, 4, 6, 6, 7, 6, 6, 6, 7, 6, 6, 6, 6, 4, 6, 6, 6, 6, 6, 6, 6, 6, 3, 7, 6, 6, 6, 6, 6, 6, 6, 7, 6, 1, 6, 9, 4, 6, 6, 6, 5, 6, 6, 6, 6, 6, 2, 6, 2, 6, 2, 6, 9, 6, 6, 6, 3, 5, 4, 2, 6, 6, 6, 2, 5, 6, 9, 7, 2, 7, 6, 6, 6, 6, 7, 6, 6, 6, 4, 6, 4, 5, 6, 5, 6, 2, 6, 6, 6, 6, 6, 6, 6, 6, 7, 6, 3, 6, 3, 4, 6, 2, 4, 6, 6, 6, 9, 2, 6, 6, 3, 7, 4, 7, 2, 6, 4, 2, 6, 4, 6, 6, 2, 6, 5, 4, 2, 6, 4, 6, 6, 6, 6, 7, 6, 6, 3, 6, 6, 6, 6, 4, 7, 6, 6, 6, 6, 5, 2, 6, 3, 5, 6, 6, 6, 6, 4, 6, 6, 6, 6, 7, 6, 8, 4, 6, 6, 6, 6, 6, 6, 6, 6, 6, 6, 7, 6, 6, 6, 6, 7, 4, 3, 6, 6, 4, 7, 3, 8, 6, 6, 7, 7, 1, 6, 6, 3, 6, 7, 6, 6, 2, 6, 6, 6, 5, 6, 6, 4, 6, 6, 6, 4, 7, 6, 9, 6, 6, 6, 5, 4, 2, 2, 7, 6, 3, 5, 6, 6, 3, 6, 7, 8, 6, 7, 6, 1, 4, 4, 4, 6, 2, 6, 6, 4, 1, 7, 6, 6, 9]\n",
            "[7, 7, 7, 4, 7, 7, 4, 1, 2, 8, 7, 5, 7, 7, 7, 7, 7, 7, 7, 7, 5, 7, 7, 2, 3, 7, 7, 7, 7, 7, 7, 5, 7, 7, 5, 7, 7, 4, 7, 7, 5, 7, 2, 7, 7, 1, 7, 7, 7, 7, 7, 7, 7, 5, 7, 7, 9, 7, 7, 7, 7, 7, 7, 7, 7, 7, 7, 7, 7, 7, 7, 7, 5, 4, 7, 7, 2, 7, 7, 7, 2, 2, 7, 7, 4, 7, 7, 5, 7, 7, 7, 7, 7, 7, 7, 2, 7, 7, 7, 7, 7, 7, 0, 5, 6, 7, 7, 8, 7, 7, 8, 5, 7, 7, 7, 2, 7, 7, 7, 7, 4, 7, 5, 7, 5, 7, 7, 2, 6, 7, 7, 2, 6, 4, 7, 7, 7, 7, 7, 7, 7, 7, 7, 7, 7, 7, 7, 7, 5, 7, 7, 4, 7, 7, 4, 1, 7, 7, 3, 7, 7, 7, 7, 7, 7, 7, 2, 5, 7, 7, 7, 7, 7, 7, 5, 5, 7, 7, 7, 7, 7, 4, 7, 2, 7, 7, 7, 7, 7, 7, 7, 5, 7, 7, 7, 5, 7, 7, 4, 7, 7, 7, 7, 7, 7, 4, 5, 7, 7, 5, 7, 7, 7, 7, 7, 7, 7, 7, 4, 7, 2, 7, 7, 7, 7, 7, 7, 5, 9, 4, 7, 7, 7, 7, 7, 4, 1, 7, 9, 7, 7, 7, 3, 7, 3, 7, 7, 5, 4, 7, 7, 7, 7, 2, 4, 7, 7, 7, 7, 7, 7, 7, 1, 7, 7, 7, 6, 7, 7, 7, 7, 4, 6, 7, 7, 5, 5, 7, 5, 7, 7, 5, 7, 7, 7, 7, 7, 7, 7, 7, 7, 7, 5, 7, 1, 3, 7, 7, 7, 7, 7, 5, 7, 7, 3, 7, 7, 7, 7, 2, 7, 7, 7, 7, 7, 7, 7, 7, 7, 9, 7, 7, 3, 7, 7, 7, 7, 7, 7, 7, 7, 7, 7, 7, 5, 7, 7, 5, 2, 2, 7, 5, 6, 7, 7, 1, 5, 7, 7, 7, 7, 7, 7, 7, 7, 5, 7, 7, 7, 5, 7, 6, 7, 7, 7, 7, 2, 8, 7, 7, 7, 7, 7, 7, 7, 7, 2, 7, 7, 9, 7, 5, 4, 7, 7, 7, 2, 7, 9, 7, 5, 7, 7, 7, 7, 7, 9, 7, 7, 7, 0, 7, 7, 7, 7, 8, 7, 3, 7, 7, 7, 7, 7, 7, 7, 9, 7, 4, 7, 7, 2, 7, 7, 7, 9, 7, 2, 1, 2, 7, 7, 7, 7, 7, 9, 6, 7, 7, 7, 7, 7, 7, 7, 7, 7, 5, 7, 5, 7, 7, 4, 7, 4, 7, 7, 7, 5, 7, 4, 7, 5, 7, 7, 7, 7, 7, 7, 7, 7, 8, 7, 7, 6, 5, 7, 7, 1, 7, 6, 6, 4, 7, 7, 7, 7, 9, 7, 7, 7, 3, 5, 3, 7, 3, 7, 7, 9, 7, 7, 7, 9, 7, 4, 7, 5, 7, 0, 5, 7, 7, 7, 5, 5, 7, 5, 7, 7, 7, 3, 7, 7, 7, 9, 7, 9, 5, 7, 7, 7, 7, 7, 7, 5, 7, 6, 7, 0, 3, 7, 7, 7, 7, 4, 7, 7, 7, 4, 1, 7, 6, 7, 3, 7, 7, 7, 7, 7, 7, 7, 7, 7, 7, 7, 7, 7, 7, 7, 7, 7, 7, 7, 7, 7, 7, 4, 7, 7, 7, 7, 7, 7, 7, 7, 7, 7, 7, 7, 7, 1, 4, 6, 7, 9, 5, 7, 5, 7, 1, 7, 7, 7, 7, 7, 7, 7, 5, 7, 4, 5, 7, 7, 7, 7, 5, 1, 7, 4, 7, 4, 7, 7, 5, 7, 4, 2, 7, 7, 7, 7, 7, 5, 7, 7, 7, 7, 7, 7, 9, 7, 7, 7, 7, 6, 5, 9, 7, 7, 7, 7, 7, 6, 7, 7, 7, 7, 7, 7, 7, 7, 4, 7, 5, 2, 7, 7, 7, 7, 7, 5, 6, 7, 7, 5, 7, 3, 7, 2, 5, 7, 7, 7, 7, 7, 5, 7, 5, 7, 7, 7, 7, 7, 5, 6, 7, 5, 7, 7, 7, 7, 7, 7, 7, 3, 7, 7, 7, 5, 9, 2, 7, 7, 7, 5, 7, 3, 7, 6, 0, 7, 7, 7, 7, 7, 2, 5, 7, 7, 7, 4, 7, 7, 7, 4, 7, 7, 7, 7, 7, 7, 7, 7, 7, 7, 7, 7, 5, 7, 7, 6, 7, 7, 7, 5, 7, 5, 5, 7, 7, 7, 7, 7, 7, 7, 6, 7, 7, 7, 6, 7, 6, 7, 7, 7, 7, 6, 7, 7, 7, 7, 7, 7, 7, 7, 7, 7, 7, 5, 7, 7, 7, 5, 7, 4, 2, 5, 7, 1, 4, 5, 7, 5, 7, 7, 7, 7, 7, 7, 2, 7, 4, 0, 7, 7, 7, 7, 2, 6, 7, 7, 7, 7, 1, 7, 7, 7, 7, 3, 7, 3, 7, 3, 2, 7, 7, 8, 7, 7, 7, 7, 7, 7, 7, 7, 7, 7, 5, 7, 7, 7, 7, 7, 7, 7, 7, 5, 6, 0, 7, 7, 5, 5, 7, 7, 7, 7, 6, 7, 7, 5, 7, 7, 7, 7, 7, 7, 7, 7, 3, 7, 7, 4, 9, 0, 7, 7, 2, 7, 7, 5, 7, 4, 7, 7, 7, 7, 7, 7, 6, 7, 7, 7, 7, 7, 6, 1, 7, 7, 7, 7, 7, 7, 7, 3, 7, 7, 7, 4, 5, 7, 7, 7, 7, 2, 7, 7, 7, 6, 7, 7, 7, 7, 7, 7, 5, 7, 2, 7, 5, 7, 7, 7, 7, 7, 5, 5, 7, 7, 7, 7, 7, 7, 7, 7, 7, 7, 7, 7, 9, 7, 7, 7, 7, 7, 7, 7, 7, 5, 7, 7, 7, 5, 6, 7, 7, 7, 7, 7, 7, 7, 7, 2, 7, 7, 7, 7, 7, 7, 7, 7, 7, 7, 7, 7, 7, 7, 7, 4, 2, 7, 7]\n",
            "[1, 1, 6, 8, 8, 8, 8, 8, 8, 8, 8, 9, 8, 7, 8, 0, 8, 8, 8, 1, 8, 8, 8, 8, 8, 8, 4, 7, 8, 9, 0, 1, 8, 8, 8, 8, 9, 2, 8, 0, 8, 0, 8, 1, 8, 0, 8, 1, 0, 9, 0, 8, 8, 9, 0, 0, 8, 8, 8, 1, 8, 0, 8, 7, 8, 8, 8, 8, 9, 0, 8, 8, 8, 2, 8, 9, 8, 8, 9, 8, 1, 9, 0, 8, 8, 8, 0, 8, 8, 7, 8, 8, 8, 2, 1, 0, 8, 6, 1, 8, 8, 8, 8, 8, 9, 8, 6, 0, 8, 8, 8, 8, 8, 8, 8, 8, 8, 8, 8, 8, 8, 8, 9, 8, 8, 8, 8, 8, 1, 1, 8, 0, 1, 8, 1, 8, 8, 8, 8, 8, 7, 8, 8, 1, 8, 8, 8, 8, 8, 9, 8, 8, 8, 1, 8, 8, 5, 8, 8, 8, 8, 8, 1, 8, 1, 8, 2, 8, 8, 8, 9, 8, 6, 9, 1, 9, 9, 8, 8, 0, 8, 5, 1, 8, 9, 8, 8, 8, 8, 9, 8, 8, 8, 8, 1, 8, 8, 6, 8, 8, 1, 8, 8, 8, 9, 8, 8, 8, 8, 8, 8, 8, 4, 8, 7, 7, 1, 8, 8, 8, 5, 8, 8, 8, 8, 8, 8, 8, 8, 8, 8, 9, 8, 8, 1, 1, 8, 0, 0, 8, 8, 8, 8, 8, 1, 1, 1, 8, 9, 8, 8, 8, 8, 8, 8, 5, 1, 8, 8, 2, 8, 8, 8, 8, 8, 8, 8, 8, 7, 8, 1, 8, 2, 9, 8, 8, 8, 5, 2, 8, 1, 8, 8, 8, 8, 8, 8, 8, 8, 8, 1, 8, 8, 1, 8, 8, 8, 8, 4, 8, 9, 8, 8, 6, 2, 8, 8, 8, 8, 8, 8, 2, 8, 1, 9, 7, 8, 8, 8, 5, 8, 2, 1, 8, 9, 8, 8, 2, 8, 2, 8, 8, 8, 8, 8, 8, 4, 0, 0, 1, 8, 8, 8, 8, 8, 1, 8, 8, 9, 8, 8, 2, 8, 9, 8, 8, 8, 8, 8, 2, 7, 8, 8, 0, 9, 8, 9, 8, 8, 8, 0, 8, 8, 8, 8, 2, 8, 8, 8, 8, 0, 8, 8, 8, 1, 8, 8, 8, 9, 8, 8, 8, 0, 1, 8, 8, 8, 1, 0, 0, 8, 8, 8, 8, 1, 2, 8, 8, 7, 8, 8, 8, 8, 2, 1, 8, 9, 6, 8, 8, 8, 8, 8, 8, 0, 9, 8, 8, 8, 8, 2, 8, 0, 7, 8, 0, 8, 8, 8, 8, 8, 0, 1, 8, 0, 8, 8, 8, 8, 1, 8, 8, 8, 0, 3, 8, 8, 8, 8, 8, 1, 8, 9, 8, 8, 8, 8, 0, 9, 8, 8, 8, 1, 9, 9, 9, 8, 8, 8, 8, 8, 6, 8, 9, 0, 8, 8, 8, 8, 8, 8, 8, 6, 6, 8, 9, 8, 9, 1, 8, 8, 8, 7, 1, 8, 1, 8, 8, 8, 6, 8, 8, 0, 8, 8, 8, 8, 9, 8, 7, 8, 1, 0, 8, 1, 8, 8, 1, 5, 8, 8, 8, 6, 8, 6, 8, 2, 8, 1, 8, 1, 8, 4, 0, 9, 8, 8, 8, 9, 8, 9, 0, 2, 1, 8, 8, 1, 8, 1, 8, 8, 8, 8, 8, 2, 9, 7, 8, 1, 1, 0, 1, 8, 1, 8, 1, 8, 8, 8, 8, 9, 9, 1, 8, 8, 8, 8, 8, 9, 8, 8, 5, 1, 8, 0, 8, 1, 9, 8, 8, 1, 8, 8, 0, 7, 2, 9, 0, 8, 8, 0, 8, 0, 8, 8, 8, 8, 8, 9, 5, 0, 8, 8, 6, 0, 8, 8, 1, 8, 5, 8, 6, 8, 9, 9, 9, 8, 1, 8, 1, 8, 9, 8, 9, 9, 8, 1, 8, 9, 8, 8, 8, 8, 8, 0, 8, 7, 8, 8, 8, 1, 9, 8, 8, 9, 1, 8, 1, 8, 8, 8, 6, 8, 0, 4, 8, 8, 0, 0, 7, 8, 1, 8, 2, 8, 0, 5, 8, 8, 8, 9, 9, 8, 8, 8, 7, 8, 8, 7, 8, 8, 8, 1, 8, 9, 9, 9, 8, 9, 8, 0, 8, 0, 8, 8, 8, 2, 8, 8, 8, 0, 9, 9, 0, 8, 1, 8, 8, 8, 8, 8, 7, 8, 8, 9, 0, 1, 8, 8, 8, 0, 5, 9, 8, 8, 1, 8, 9, 8, 5, 8, 1, 2, 8, 8, 6, 8, 8, 8, 9, 0, 8, 8, 8, 8, 8, 1, 1, 0, 8, 8, 1, 8, 8, 8, 8, 4, 8, 0, 8, 6, 1, 8, 8, 7, 8, 8, 9, 1, 8, 8, 7, 1, 8, 8, 1, 8, 8, 8, 7, 0, 9, 8, 2, 8, 0, 8, 1, 1, 9, 8, 1, 8, 1, 0, 2, 8, 0, 8, 8, 7, 9, 8, 8, 1, 8, 8, 8, 8, 8, 8, 8, 2, 8, 9, 8, 8, 1, 8, 0, 8, 6, 6, 1, 8, 1, 9, 1, 8, 8, 8, 8, 0, 8, 1, 0, 7, 1, 8, 0, 1, 9, 8, 9, 1, 8, 8, 8, 1, 6, 8, 8, 8, 6, 0, 0, 8, 2, 8, 7, 1, 7, 1, 8, 8, 8, 8, 8, 8, 0, 3, 8, 6, 8, 8, 8, 0, 3, 9, 8, 2, 8, 8, 8, 8, 3, 8, 8, 8, 0, 8, 9, 1, 6, 1, 8, 9, 0, 8, 8, 8, 8, 8, 8, 0, 0, 8, 8, 8, 3, 8, 3, 6, 8, 0, 1, 5, 0, 1, 7, 8, 8, 1, 8, 8, 8, 8, 8, 8, 8, 4, 8, 8, 9, 8, 8, 8, 1, 8, 8, 8, 8, 8, 9, 8, 0, 8, 8, 8, 8, 8, 8, 0, 8, 0, 6, 1, 8, 0, 8, 8, 8, 9, 8, 8, 8, 8, 8, 8, 8, 8, 3, 4, 1, 8, 8, 0, 8, 1, 5]\n",
            "[9, 1, 9, 1, 9, 1, 9, 7, 9, 9, 1, 9, 9, 8, 1, 9, 9, 9, 1, 9, 9, 8, 7, 9, 9, 9, 7, 8, 6, 9, 1, 9, 9, 9, 1, 9, 6, 1, 1, 7, 9, 9, 9, 9, 7, 6, 8, 9, 9, 9, 8, 1, 9, 9, 9, 9, 9, 9, 9, 9, 9, 6, 9, 9, 2, 9, 9, 2, 1, 9, 1, 9, 9, 1, 1, 1, 9, 7, 9, 9, 1, 9, 9, 7, 8, 6, 1, 6, 9, 9, 9, 1, 1, 7, 1, 1, 9, 9, 9, 9, 1, 1, 9, 9, 9, 9, 1, 1, 8, 6, 9, 2, 1, 9, 9, 9, 1, 3, 1, 2, 9, 6, 9, 1, 6, 8, 1, 1, 8, 9, 1, 9, 1, 9, 1, 9, 1, 9, 9, 6, 9, 9, 7, 9, 1, 1, 8, 9, 9, 7, 9, 9, 1, 1, 9, 9, 8, 1, 6, 9, 2, 9, 8, 9, 9, 9, 1, 9, 1, 9, 9, 9, 1, 8, 9, 1, 1, 9, 9, 9, 9, 1, 9, 1, 1, 9, 9, 6, 9, 9, 9, 9, 9, 7, 1, 9, 7, 3, 7, 1, 9, 8, 8, 9, 7, 9, 3, 1, 9, 1, 9, 1, 6, 7, 9, 1, 9, 8, 9, 9, 6, 9, 6, 9, 1, 1, 9, 9, 9, 1, 8, 1, 6, 9, 1, 9, 7, 7, 7, 1, 0, 9, 8, 9, 9, 8, 1, 9, 9, 9, 9, 9, 9, 8, 1, 8, 9, 8, 3, 6, 5, 9, 9, 9, 7, 7, 9, 9, 9, 9, 1, 8, 0, 8, 9, 9, 6, 6, 1, 1, 9, 6, 7, 6, 9, 7, 9, 7, 9, 1, 1, 2, 1, 0, 8, 1, 9, 9, 1, 1, 7, 7, 4, 9, 6, 9, 9, 9, 9, 9, 9, 9, 9, 9, 7, 8, 9, 9, 9, 7, 1, 1, 9, 7, 8, 9, 9, 9, 1, 1, 7, 9, 1, 1, 9, 9, 9, 9, 9, 9, 5, 1, 7, 9, 9, 1, 1, 9, 9, 6, 1, 9, 1, 9, 9, 1, 6, 9, 9, 9, 1, 9, 6, 7, 6, 1, 1, 9, 8, 1, 7, 9, 1, 6, 9, 1, 9, 9, 1, 9, 9, 9, 9, 1, 9, 1, 7, 5, 1, 9, 1, 9, 9, 9, 9, 1, 1, 7, 9, 9, 9, 1, 9, 9, 9, 9, 8, 9, 9, 5, 7, 9, 7, 9, 9, 9, 7, 8, 9, 8, 1, 9, 9, 1, 8, 9, 1, 9, 9, 1, 7, 9, 1, 9, 2, 6, 9, 9, 9, 9, 9, 1, 9, 1, 9, 7, 9, 6, 9, 1, 6, 1, 7, 7, 8, 9, 1, 7, 9, 9, 7, 1, 9, 6, 9, 7, 9, 2, 9, 9, 8, 9, 9, 9, 1, 9, 7, 9, 9, 9, 9, 9, 9, 9, 6, 9, 6, 9, 1, 9, 7, 9, 9, 9, 9, 9, 9, 9, 2, 9, 9, 1, 1, 9, 1, 1, 9, 1, 1, 1, 1, 9, 6, 1, 9, 9, 1, 1, 0, 9, 9, 9, 1, 1, 0, 8, 9, 9, 9, 7, 9, 6, 1, 7, 9, 9, 9, 9, 9, 9, 1, 2, 5, 9, 9, 1, 1, 9, 1, 1, 8, 8, 1, 1, 9, 9, 1, 9, 7, 8, 1, 9, 1, 8, 8, 6, 6, 8, 9, 9, 1, 9, 9, 9, 5, 5, 7, 9, 9, 1, 1, 9, 9, 1, 9, 1, 4, 8, 6, 9, 9, 7, 9, 1, 1, 9, 1, 9, 9, 9, 9, 9, 9, 9, 9, 6, 9, 9, 1, 9, 9, 9, 9, 7, 9, 9, 1, 9, 9, 7, 9, 9, 1, 9, 9, 9, 6, 9, 9, 9, 9, 1, 1, 9, 9, 9, 9, 6, 9, 3, 1, 6, 9, 9, 8, 8, 9, 9, 1, 9, 7, 0, 6, 1, 6, 8, 1, 6, 7, 7, 8, 9, 9, 8, 9, 9, 1, 9, 9, 7, 9, 1, 7, 9, 1, 7, 1, 8, 7, 9, 1, 9, 9, 9, 3, 9, 3, 7, 8, 6, 9, 0, 1, 1, 9, 1, 9, 9, 7, 7, 9, 6, 5, 9, 1, 9, 7, 9, 9, 8, 9, 9, 9, 9, 9, 9, 1, 9, 9, 1, 9, 1, 7, 1, 1, 1, 1, 1, 9, 5, 7, 1, 1, 9, 1, 9, 8, 1, 9, 8, 9, 7, 1, 1, 9, 1, 9, 1, 9, 7, 9, 9, 9, 9, 9, 9, 1, 9, 9, 9, 9, 1, 9, 9, 1, 9, 7, 9, 1, 9, 6, 9, 9, 1, 1, 9, 9, 9, 1, 9, 9, 9, 1, 9, 1, 9, 1, 9, 7, 9, 9, 9, 3, 7, 9, 6, 9, 9, 9, 9, 9, 7, 9, 1, 1, 7, 1, 8, 2, 9, 9, 1, 9, 6, 9, 9, 1, 8, 9, 6, 1, 7, 7, 9, 9, 9, 9, 1, 1, 9, 9, 9, 9, 6, 1, 1, 1, 6, 7, 9, 9, 1, 1, 9, 1, 8, 1, 9, 3, 9, 9, 7, 1, 9, 9, 1, 1, 1, 9, 7, 1, 9, 9, 9, 9, 9, 9, 9, 9, 6, 9, 1, 3, 9, 9, 9, 1, 9, 9, 7, 9, 9, 2, 9, 8, 9, 9, 1, 8, 1, 9, 8, 9, 1, 1, 6, 1, 1, 1, 3, 9, 7, 0, 7, 6, 9, 9, 1, 1, 8, 1, 1, 7, 1, 9, 9, 9, 9, 9, 9, 9, 1, 9, 9, 7, 9, 9, 9, 9, 9, 8, 1, 9, 9, 1, 7, 9, 9, 0, 7, 9, 2, 8, 1, 9, 9, 9, 9, 9, 6, 1, 1, 8, 7, 9, 9, 7, 9, 9, 0, 6, 1, 9, 9, 1, 9, 9, 1, 9, 7, 1, 7, 9, 9, 1, 1, 1, 9, 1, 7, 6, 1, 7, 6, 6, 9, 1, 1, 9, 1, 8, 1, 1, 9, 8, 8, 9, 9, 9, 9]\n"
          ]
        }
      ],
      "source": [
        "import collections\n",
        "mc = []\n",
        "for i in range(0,10):\n",
        "  mc.append([])\n",
        "\n",
        "\n",
        "df2 = pd.DataFrame()\n",
        "for nu in range(0, 10):\n",
        "  results = []\n",
        "  with torch.no_grad():\n",
        "      for data in testloader:\n",
        "          images, labels = data\n",
        "          images, labels = images.type(torch.cuda.FloatTensor), labels.type(torch.cuda.FloatTensor)\n",
        "          outputs = net(images)\n",
        "          _, predicted = torch.max(outputs, 1)\n",
        "          c = (predicted == labels).squeeze()\n",
        "          cp = c.cpu()\n",
        "          for i in range(4):\n",
        "              label = labels.cpu()[i]\n",
        "              class_correct[label.int()] += cp[i].item()\n",
        "              class_total[label.int()] += 1\n",
        "              if(label == nu):\n",
        "                results.append(predicted[i].item())\n",
        "              #confidences[labels[i]].append(f(outputs[i]))\n",
        "\n",
        "  print(results)\n",
        "  mc[nu] = results\n",
        "  #df2 = df2.append(pd.DataFrame(np.array(list(collections.Counter(results).values())).reshape(-1, len(np.array(list(collections.Counter(results).values()))))))\n",
        "\n",
        "\n"
      ]
    },
    {
      "cell_type": "code",
      "execution_count": null,
      "metadata": {
        "colab": {
          "base_uri": "https://localhost:8080/"
        },
        "id": "weHSGB5b4JKE",
        "outputId": "5f0b545c-e682-470c-ee5d-8a2dd9281153"
      },
      "outputs": [
        {
          "output_type": "stream",
          "name": "stderr",
          "text": [
            "<ipython-input-60-0dfd1e7e13f1>:4: FutureWarning: The frame.append method is deprecated and will be removed from pandas in a future version. Use pandas.concat instead.\n",
            "  df2 = df2.append(pd.value_counts(np.array(mc[i])).sort_index(), ignore_index = True)\n",
            "<ipython-input-60-0dfd1e7e13f1>:4: FutureWarning: The frame.append method is deprecated and will be removed from pandas in a future version. Use pandas.concat instead.\n",
            "  df2 = df2.append(pd.value_counts(np.array(mc[i])).sort_index(), ignore_index = True)\n",
            "<ipython-input-60-0dfd1e7e13f1>:4: FutureWarning: The frame.append method is deprecated and will be removed from pandas in a future version. Use pandas.concat instead.\n",
            "  df2 = df2.append(pd.value_counts(np.array(mc[i])).sort_index(), ignore_index = True)\n",
            "<ipython-input-60-0dfd1e7e13f1>:4: FutureWarning: The frame.append method is deprecated and will be removed from pandas in a future version. Use pandas.concat instead.\n",
            "  df2 = df2.append(pd.value_counts(np.array(mc[i])).sort_index(), ignore_index = True)\n",
            "<ipython-input-60-0dfd1e7e13f1>:4: FutureWarning: The frame.append method is deprecated and will be removed from pandas in a future version. Use pandas.concat instead.\n",
            "  df2 = df2.append(pd.value_counts(np.array(mc[i])).sort_index(), ignore_index = True)\n",
            "<ipython-input-60-0dfd1e7e13f1>:4: FutureWarning: The frame.append method is deprecated and will be removed from pandas in a future version. Use pandas.concat instead.\n",
            "  df2 = df2.append(pd.value_counts(np.array(mc[i])).sort_index(), ignore_index = True)\n",
            "<ipython-input-60-0dfd1e7e13f1>:4: FutureWarning: The frame.append method is deprecated and will be removed from pandas in a future version. Use pandas.concat instead.\n",
            "  df2 = df2.append(pd.value_counts(np.array(mc[i])).sort_index(), ignore_index = True)\n",
            "<ipython-input-60-0dfd1e7e13f1>:4: FutureWarning: The frame.append method is deprecated and will be removed from pandas in a future version. Use pandas.concat instead.\n",
            "  df2 = df2.append(pd.value_counts(np.array(mc[i])).sort_index(), ignore_index = True)\n",
            "<ipython-input-60-0dfd1e7e13f1>:4: FutureWarning: The frame.append method is deprecated and will be removed from pandas in a future version. Use pandas.concat instead.\n",
            "  df2 = df2.append(pd.value_counts(np.array(mc[i])).sort_index(), ignore_index = True)\n",
            "<ipython-input-60-0dfd1e7e13f1>:4: FutureWarning: The frame.append method is deprecated and will be removed from pandas in a future version. Use pandas.concat instead.\n",
            "  df2 = df2.append(pd.value_counts(np.array(mc[i])).sort_index(), ignore_index = True)\n"
          ]
        }
      ],
      "source": [
        "import numpy as np\n",
        "df2 = pd.DataFrame()\n",
        "for i in range(0,10):\n",
        "  df2 = df2.append(pd.value_counts(np.array(mc[i])).sort_index(), ignore_index = True)\n",
        "\n"
      ]
    },
    {
      "cell_type": "code",
      "execution_count": null,
      "metadata": {
        "colab": {
          "base_uri": "https://localhost:8080/",
          "height": 755
        },
        "id": "MiY4lJyv4MrA",
        "outputId": "44551421-7f5b-4ef9-e9eb-7e9c4ce92796"
      },
      "outputs": [
        {
          "output_type": "display_data",
          "data": {
            "text/plain": [
              "<Figure size 480x480 with 2 Axes>"
            ],
            "image/png": "[encoded data removed]"
          },
          "metadata": {}
        },
        {
          "output_type": "execute_result",
          "data": {
            "text/plain": [
              "          0         1         2         3         4         5         6  \\\n",
              "0  0.000386  0.000065  0.000119  0.000008  0.000022  0.000014  0.000027   \n",
              "1  0.000009  0.000698  0.000009  0.000011  0.000008  0.000005  0.000034   \n",
              "2  0.000047  0.000021  0.000355  0.000026  0.000076  0.000166  0.000121   \n",
              "3  0.000006  0.000018  0.000092  0.000144  0.000047  0.000264  0.000173   \n",
              "4  0.000021  0.000021  0.000222  0.000019  0.000239  0.000075  0.000144   \n",
              "5  0.000004  0.000009  0.000104  0.000052  0.000036  0.000458  0.000070   \n",
              "6  0.000002  0.000017  0.000057  0.000034  0.000072  0.000049  0.000662   \n",
              "7  0.000008  0.000016  0.000037  0.000022  0.000043  0.000090  0.000031   \n",
              "8  0.000084  0.000111  0.000030  0.000007  0.000009  0.000015  0.000026   \n",
              "9  0.000010  0.000241  0.000013  0.000011  0.000002  0.000009  0.000061   \n",
              "\n",
              "          7         8         9  \n",
              "0  0.000068  0.000206  0.000085  \n",
              "1  0.000024  0.000054  0.000148  \n",
              "2  0.000145  0.000022  0.000021  \n",
              "3  0.000207  0.000014  0.000035  \n",
              "4  0.000233  0.000018  0.000008  \n",
              "5  0.000247  0.000009  0.000011  \n",
              "6  0.000078  0.000004  0.000025  \n",
              "7  0.000725  0.000007  0.000021  \n",
              "8  0.000029  0.000603  0.000086  \n",
              "9  0.000091  0.000065  0.000497  "
            ],
            "text/html": [
              "\n",
              "\n",
              "  <div id=\"df-af63d125-714c-4bb7-87bc-99619c754562\">\n",
              "    <div class=\"colab-df-container\">\n",
              "      <div>\n",
              "<style scoped>\n",
              "    .dataframe tbody tr th:only-of-type {\n",
              "        vertical-align: middle;\n",
              "    }\n",
              "\n",
              "    .dataframe tbody tr th {\n",
              "        vertical-align: top;\n",
              "    }\n",
              "\n",
              "    .dataframe thead th {\n",
              "        text-align: right;\n",
              "    }\n",
              "</style>\n",
              "<table border=\"1\" class=\"dataframe\">\n",
              "  <thead>\n",
              "    <tr style=\"text-align: right;\">\n",
              "      <th></th>\n",
              "      <th>0</th>\n",
              "      <th>1</th>\n",
              "      <th>2</th>\n",
              "      <th>3</th>\n",
              "      <th>4</th>\n",
              "      <th>5</th>\n",
              "      <th>6</th>\n",
              "      <th>7</th>\n",
              "      <th>8</th>\n",
              "      <th>9</th>\n",
              "    </tr>\n",
              "  </thead>\n",
              "  <tbody>\n",
              "    <tr>\n",
              "      <th>0</th>\n",
              "      <td>0.000386</td>\n",
              "      <td>0.000065</td>\n",
              "      <td>0.000119</td>\n",
              "      <td>0.000008</td>\n",
              "      <td>0.000022</td>\n",
              "      <td>0.000014</td>\n",
              "      <td>0.000027</td>\n",
              "      <td>0.000068</td>\n",
              "      <td>0.000206</td>\n",
              "      <td>0.000085</td>\n",
              "    </tr>\n",
              "    <tr>\n",
              "      <th>1</th>\n",
              "      <td>0.000009</td>\n",
              "      <td>0.000698</td>\n",
              "      <td>0.000009</td>\n",
              "      <td>0.000011</td>\n",
              "      <td>0.000008</td>\n",
              "      <td>0.000005</td>\n",
              "      <td>0.000034</td>\n",
              "      <td>0.000024</td>\n",
              "      <td>0.000054</td>\n",
              "      <td>0.000148</td>\n",
              "    </tr>\n",
              "    <tr>\n",
              "      <th>2</th>\n",
              "      <td>0.000047</td>\n",
              "      <td>0.000021</td>\n",
              "      <td>0.000355</td>\n",
              "      <td>0.000026</td>\n",
              "      <td>0.000076</td>\n",
              "      <td>0.000166</td>\n",
              "      <td>0.000121</td>\n",
              "      <td>0.000145</td>\n",
              "      <td>0.000022</td>\n",
              "      <td>0.000021</td>\n",
              "    </tr>\n",
              "    <tr>\n",
              "      <th>3</th>\n",
              "      <td>0.000006</td>\n",
              "      <td>0.000018</td>\n",
              "      <td>0.000092</td>\n",
              "      <td>0.000144</td>\n",
              "      <td>0.000047</td>\n",
              "      <td>0.000264</td>\n",
              "      <td>0.000173</td>\n",
              "      <td>0.000207</td>\n",
              "      <td>0.000014</td>\n",
              "      <td>0.000035</td>\n",
              "    </tr>\n",
              "    <tr>\n",
              "      <th>4</th>\n",
              "      <td>0.000021</td>\n",
              "      <td>0.000021</td>\n",
              "      <td>0.000222</td>\n",
              "      <td>0.000019</td>\n",
              "      <td>0.000239</td>\n",
              "      <td>0.000075</td>\n",
              "      <td>0.000144</td>\n",
              "      <td>0.000233</td>\n",
              "      <td>0.000018</td>\n",
              "      <td>0.000008</td>\n",
              "    </tr>\n",
              "    <tr>\n",
              "      <th>5</th>\n",
              "      <td>0.000004</td>\n",
              "      <td>0.000009</td>\n",
              "      <td>0.000104</td>\n",
              "      <td>0.000052</td>\n",
              "      <td>0.000036</td>\n",
              "      <td>0.000458</td>\n",
              "      <td>0.000070</td>\n",
              "      <td>0.000247</td>\n",
              "      <td>0.000009</td>\n",
              "      <td>0.000011</td>\n",
              "    </tr>\n",
              "    <tr>\n",
              "      <th>6</th>\n",
              "      <td>0.000002</td>\n",
              "      <td>0.000017</td>\n",
              "      <td>0.000057</td>\n",
              "      <td>0.000034</td>\n",
              "      <td>0.000072</td>\n",
              "      <td>0.000049</td>\n",
              "      <td>0.000662</td>\n",
              "      <td>0.000078</td>\n",
              "      <td>0.000004</td>\n",
              "      <td>0.000025</td>\n",
              "    </tr>\n",
              "    <tr>\n",
              "      <th>7</th>\n",
              "      <td>0.000008</td>\n",
              "      <td>0.000016</td>\n",
              "      <td>0.000037</td>\n",
              "      <td>0.000022</td>\n",
              "      <td>0.000043</td>\n",
              "      <td>0.000090</td>\n",
              "      <td>0.000031</td>\n",
              "      <td>0.000725</td>\n",
              "      <td>0.000007</td>\n",
              "      <td>0.000021</td>\n",
              "    </tr>\n",
              "    <tr>\n",
              "      <th>8</th>\n",
              "      <td>0.000084</td>\n",
              "      <td>0.000111</td>\n",
              "      <td>0.000030</td>\n",
              "      <td>0.000007</td>\n",
              "      <td>0.000009</td>\n",
              "      <td>0.000015</td>\n",
              "      <td>0.000026</td>\n",
              "      <td>0.000029</td>\n",
              "      <td>0.000603</td>\n",
              "      <td>0.000086</td>\n",
              "    </tr>\n",
              "    <tr>\n",
              "      <th>9</th>\n",
              "      <td>0.000010</td>\n",
              "      <td>0.000241</td>\n",
              "      <td>0.000013</td>\n",
              "      <td>0.000011</td>\n",
              "      <td>0.000002</td>\n",
              "      <td>0.000009</td>\n",
              "      <td>0.000061</td>\n",
              "      <td>0.000091</td>\n",
              "      <td>0.000065</td>\n",
              "      <td>0.000497</td>\n",
              "    </tr>\n",
              "  </tbody>\n",
              "</table>\n",
              "</div>\n",
              "      <button class=\"colab-df-convert\" onclick=\"convertToInteractive('df-af63d125-714c-4bb7-87bc-99619c754562')\"\n",
              "              title=\"Convert this dataframe to an interactive table.\"\n",
              "              style=\"display:none;\">\n",
              "\n",
              "  <svg xmlns=\"http://www.w3.org/2000/svg\" height=\"24px\"viewBox=\"0 0 24 24\"\n",
              "       width=\"24px\">\n",
              "    <path d=\"M0 0h24v24H0V0z\" fill=\"none\"/>\n",
              "    <path d=\"M18.56 5.44l.94 2.06.94-2.06 2.06-.94-2.06-.94-.94-2.06-.94 2.06-2.06.94zm-11 1L8.5 8.5l.94-2.06 2.06-.94-2.06-.94L8.5 2.5l-.94 2.06-2.06.94zm10 10l.94 2.06.94-2.06 2.06-.94-2.06-.94-.94-2.06-.94 2.06-2.06.94z\"/><path d=\"M17.41 7.96l-1.37-1.37c-.4-.4-.92-.59-1.43-.59-.52 0-1.04.2-1.43.59L10.3 9.45l-7.72 7.72c-.78.78-.78 2.05 0 2.83L4 21.41c.39.39.9.59 1.41.59.51 0 1.02-.2 1.41-.59l7.78-7.78 2.81-2.81c.8-.78.8-2.07 0-2.86zM5.41 20L4 18.59l7.72-7.72 1.47 1.35L5.41 20z\"/>\n",
              "  </svg>\n",
              "      </button>\n",
              "\n",
              "\n",
              "\n",
              "    <div id=\"df-f7c9b927-a0ca-4d65-8bd3-c2982f02b5ba\">\n",
              "      <button class=\"colab-df-quickchart\" onclick=\"quickchart('df-f7c9b927-a0ca-4d65-8bd3-c2982f02b5ba')\"\n",
              "              title=\"Suggest charts.\"\n",
              "              style=\"display:none;\">\n",
              "\n",
              "<svg xmlns=\"http://www.w3.org/2000/svg\" height=\"24px\"viewBox=\"0 0 24 24\"\n",
              "     width=\"24px\">\n",
              "    <g>\n",
              "        <path d=\"M19 3H5c-1.1 0-2 .9-2 2v14c0 1.1.9 2 2 2h14c1.1 0 2-.9 2-2V5c0-1.1-.9-2-2-2zM9 17H7v-7h2v7zm4 0h-2V7h2v10zm4 0h-2v-4h2v4z\"/>\n",
              "    </g>\n",
              "</svg>\n",
              "      </button>\n",
              "    </div>\n",
              "\n",
              "<style>\n",
              "  .colab-df-quickchart {\n",
              "    background-color: #E8F0FE;\n",
              "    border: none;\n",
              "    border-radius: 50%;\n",
              "    cursor: pointer;\n",
              "    display: none;\n",
              "    fill: #1967D2;\n",
              "    height: 32px;\n",
              "    padding: 0 0 0 0;\n",
              "    width: 32px;\n",
              "  }\n",
              "\n",
              "  .colab-df-quickchart:hover {\n",
              "    background-color: #E2EBFA;\n",
              "    box-shadow: 0px 1px 2px rgba(60, 64, 67, 0.3), 0px 1px 3px 1px rgba(60, 64, 67, 0.15);\n",
              "    fill: #174EA6;\n",
              "  }\n",
              "\n",
              "  [theme=dark] .colab-df-quickchart {\n",
              "    background-color: #3B4455;\n",
              "    fill: #D2E3FC;\n",
              "  }\n",
              "\n",
              "  [theme=dark] .colab-df-quickchart:hover {\n",
              "    background-color: #434B5C;\n",
              "    box-shadow: 0px 1px 3px 1px rgba(0, 0, 0, 0.15);\n",
              "    filter: drop-shadow(0px 1px 2px rgba(0, 0, 0, 0.3));\n",
              "    fill: #FFFFFF;\n",
              "  }\n",
              "</style>\n",
              "\n",
              "    <script>\n",
              "      async function quickchart(key) {\n",
              "        const containerElement = document.querySelector('#' + key);\n",
              "        const charts = await google.colab.kernel.invokeFunction(\n",
              "            'suggestCharts', [key], {});\n",
              "      }\n",
              "    </script>\n",
              "\n",
              "      <script>\n",
              "\n",
              "function displayQuickchartButton(domScope) {\n",
              "  let quickchartButtonEl =\n",
              "    domScope.querySelector('#df-f7c9b927-a0ca-4d65-8bd3-c2982f02b5ba button.colab-df-quickchart');\n",
              "  quickchartButtonEl.style.display =\n",
              "    google.colab.kernel.accessAllowed ? 'block' : 'none';\n",
              "}\n",
              "\n",
              "        displayQuickchartButton(document);\n",
              "      </script>\n",
              "      <style>\n",
              "    .colab-df-container {\n",
              "      display:flex;\n",
              "      flex-wrap:wrap;\n",
              "      gap: 12px;\n",
              "    }\n",
              "\n",
              "    .colab-df-convert {\n",
              "      background-color: #E8F0FE;\n",
              "      border: none;\n",
              "      border-radius: 50%;\n",
              "      cursor: pointer;\n",
              "      display: none;\n",
              "      fill: #1967D2;\n",
              "      height: 32px;\n",
              "      padding: 0 0 0 0;\n",
              "      width: 32px;\n",
              "    }\n",
              "\n",
              "    .colab-df-convert:hover {\n",
              "      background-color: #E2EBFA;\n",
              "      box-shadow: 0px 1px 2px rgba(60, 64, 67, 0.3), 0px 1px 3px 1px rgba(60, 64, 67, 0.15);\n",
              "      fill: #174EA6;\n",
              "    }\n",
              "\n",
              "    [theme=dark] .colab-df-convert {\n",
              "      background-color: #3B4455;\n",
              "      fill: #D2E3FC;\n",
              "    }\n",
              "\n",
              "    [theme=dark] .colab-df-convert:hover {\n",
              "      background-color: #434B5C;\n",
              "      box-shadow: 0px 1px 3px 1px rgba(0, 0, 0, 0.15);\n",
              "      filter: drop-shadow(0px 1px 2px rgba(0, 0, 0, 0.3));\n",
              "      fill: #FFFFFF;\n",
              "    }\n",
              "  </style>\n",
              "\n",
              "      <script>\n",
              "        const buttonEl =\n",
              "          document.querySelector('#df-af63d125-714c-4bb7-87bc-99619c754562 button.colab-df-convert');\n",
              "        buttonEl.style.display =\n",
              "          google.colab.kernel.accessAllowed ? 'block' : 'none';\n",
              "\n",
              "        async function convertToInteractive(key) {\n",
              "          const element = document.querySelector('#df-af63d125-714c-4bb7-87bc-99619c754562');\n",
              "          const dataTable =\n",
              "            await google.colab.kernel.invokeFunction('convertToInteractive',\n",
              "                                                     [key], {});\n",
              "          if (!dataTable) return;\n",
              "\n",
              "          const docLinkHtml = 'Like what you see? Visit the ' +\n",
              "            '<a target=\"_blank\" href=https://colab.research.google.com/notebooks/data_table.ipynb>data table notebook</a>'\n",
              "            + ' to learn more about interactive tables.';\n",
              "          element.innerHTML = '';\n",
              "          dataTable['output_type'] = 'display_data';\n",
              "          await google.colab.output.renderOutput(dataTable, element);\n",
              "          const docLink = document.createElement('div');\n",
              "          docLink.innerHTML = docLinkHtml;\n",
              "          element.appendChild(docLink);\n",
              "        }\n",
              "      </script>\n",
              "    </div>\n",
              "  </div>\n"
            ]
          },
          "metadata": {},
          "execution_count": 61
        }
      ],
      "source": [
        "import matplotlib.pyplot as plt\n",
        "df2 = df2/1000\n",
        "plt.matshow(df2)\n",
        "plt.colorbar()\n",
        "plt.show()\n",
        "df2/1000"
      ]
    },
    {
      "cell_type": "code",
      "source": [],
      "metadata": {
        "id": "9vqA7_mANw8b"
      },
      "execution_count": null,
      "outputs": []
    }
  ],
  "metadata": {
    "accelerator": "GPU",
    "colab": {
      "provenance": [],
      "authorship_tag": "ABX9TyN8qXc22iz2bG/h3nY3D/vN",
      "include_colab_link": true
    },
    "kernelspec": {
      "display_name": "Python 3",
      "name": "python3"
    },
    "language_info": {
      "name": "python"
    }
  },
  "nbformat": 4,
  "nbformat_minor": 0
}