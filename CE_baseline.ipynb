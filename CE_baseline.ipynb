{
  "cells": [
    {
      "cell_type": "markdown",
      "metadata": {
        "id": "view-in-github",
        "colab_type": "text"
      },
      "source": [
        "<a href=\"https://colab.research.google.com/github/tqsyed/confNorm/blob/main/CE_baseline.ipynb\" target=\"_parent\"><img src=\"https://colab.research.google.com/assets/colab-badge.svg\" alt=\"Open In Colab\"/></a>"
      ]
    },
    {
      "cell_type": "code",
      "execution_count": null,
      "metadata": {
        "colab": {
          "base_uri": "https://localhost:8080/"
        },
        "id": "j81bhONH1rNF",
        "outputId": "0b91f4e1-1f3a-4d9f-e5df-b74de634a971"
      },
      "outputs": [
        {
          "name": "stdout",
          "output_type": "stream",
          "text": [
            "Downloading https://www.cs.toronto.edu/~kriz/cifar-10-python.tar.gz to ./data/cifar-10-python.tar.gz\n"
          ]
        },
        {
          "name": "stderr",
          "output_type": "stream",
          "text": [
            "100%|██████████| 170498071/170498071 [00:05<00:00, 29491182.42it/s]\n"
          ]
        },
        {
          "name": "stdout",
          "output_type": "stream",
          "text": [
            "Extracting ./data/cifar-10-python.tar.gz to ./data\n",
            "Files already downloaded and verified\n"
          ]
        }
      ],
      "source": [
        "import torch\n",
        "import torchvision\n",
        "import torchvision.transforms as transforms\n",
        "\n",
        "transform = transforms.Compose(\n",
        "    [transforms.ToTensor(),\n",
        "     transforms.Normalize((0.5, 0.5, 0.5), (0.5, 0.5, 0.5))])\n",
        "\n",
        "trainset = torchvision.datasets.CIFAR10(root='./data', train=True,\n",
        "                                        download=True, transform=transform)\n",
        "trainloader = torch.utils.data.DataLoader(trainset, batch_size=4,\n",
        "                                          shuffle=True, num_workers=2)\n",
        "\n",
        "testset = torchvision.datasets.CIFAR10(root='./data', train=False,\n",
        "                                       download=True, transform=transform)\n",
        "testloader = torch.utils.data.DataLoader(testset, batch_size=4,\n",
        "                                         shuffle=False, num_workers=2)\n",
        "\n",
        "classes = ('plane', 'car', 'bird', 'cat',\n",
        "           'deer', 'dog', 'frog', 'horse', 'ship', 'truck')"
      ]
    },
    {
      "cell_type": "code",
      "execution_count": null,
      "metadata": {
        "colab": {
          "base_uri": "https://localhost:8080/"
        },
        "id": "aqZ7dOup2gXy",
        "outputId": "0554b316-965f-44fe-b4f7-518d36e76fad"
      },
      "outputs": [
        {
          "name": "stdout",
          "output_type": "stream",
          "text": [
            "Files already downloaded and verified\n",
            "Files already downloaded and verified\n"
          ]
        }
      ],
      "source": [
        "import torch\n",
        "import torchvision\n",
        "import torchvision.transforms as transforms\n",
        "\n",
        "transform = transforms.Compose(\n",
        "    [transforms.ToTensor(),\n",
        "     transforms.Normalize((0.5, 0.5, 0.5), (0.5, 0.5, 0.5))])\n",
        "\n",
        "trainset = torchvision.datasets.CIFAR10(root='./data', train=True,\n",
        "                                        download=True, transform=transform)\n",
        "trainloader = torch.utils.data.DataLoader(trainset, batch_size=4,\n",
        "                                          shuffle=True, num_workers=2)\n",
        "\n",
        "testset = torchvision.datasets.CIFAR10(root='./data', train=False,\n",
        "                                       download=True, transform=transform)\n",
        "testloader = torch.utils.data.DataLoader(testset, batch_size=4,\n",
        "                                         shuffle=False, num_workers=2)\n",
        "\n",
        "classes = ('plane', 'car', 'bird', 'cat',\n",
        "           'deer', 'dog', 'frog', 'horse', 'ship', 'truck')"
      ]
    },
    {
      "cell_type": "code",
      "execution_count": null,
      "metadata": {
        "id": "iW72pDJa2uUs"
      },
      "outputs": [],
      "source": [
        "import torch.nn as nn\n",
        "import torch.nn.functional as F\n",
        "\n",
        "\n",
        "class Net(nn.Module):\n",
        "    def __init__(self):\n",
        "        super(Net, self).__init__()\n",
        "        self.conv1 = nn.Conv2d(3, 6, 5)\n",
        "        self.pool = nn.MaxPool2d(2, 2)\n",
        "        self.conv2 = nn.Conv2d(6, 16, 5)\n",
        "        self.fc1 = nn.Linear(16 * 5 * 5, 120)\n",
        "        self.fc2 = nn.Linear(120, 84)\n",
        "        self.fc3 = nn.Linear(84, 10)\n",
        "\n",
        "    def forward(self, x):\n",
        "        x = self.pool(F.relu(self.conv1(x)))\n",
        "        x = self.pool(F.relu(self.conv2(x)))\n",
        "        x = x.view(-1, 16 * 5 * 5)\n",
        "        x = F.relu(self.fc1(x))\n",
        "        x = F.relu(self.fc2(x))\n",
        "        x = self.fc3(x)\n",
        "        return x\n",
        "\n",
        "\n",
        "net = Net()"
      ]
    },
    {
      "cell_type": "code",
      "execution_count": null,
      "metadata": {
        "id": "lIFE73d_2y_0"
      },
      "outputs": [],
      "source": [
        "import math\n",
        "import torch.optim as optim\n",
        "\n",
        "f = nn.Sigmoid()\n",
        "\n",
        "def ratio_loss(output, target):\n",
        "       #if (sum(output) - output[target]) == 0:\n",
        "         #print((sum(output) - output[target]))\n",
        "         #return 0\n",
        "       return output[target] / (sum(output))# - output[target])\n",
        "class new_loss(nn.CrossEntropyLoss):\n",
        "  def forward(self, input, target):\n",
        "        val = 0\n",
        "        for i in range(0,len(input)):\n",
        "          val +=  ratio_loss(f(input[i]), target[i])\n",
        "        # print(\"Cross Entropy Value\")\n",
        "        # print(F.cross_entropy(input, target, weight=self.weight, ignore_index=self.ignore_index, reduction=self.reduction))\n",
        "        # print(\"Ratio Value\")\n",
        "        # print(val)\n",
        "        if(math.isnan(val)):\n",
        "          print(val)\n",
        "          return F.cross_entropy(input, target, weight=self.weight, ignore_index=self.ignore_index, reduction=self.reduction)\n",
        "        #print(F.cross_entropy(input, target, weight=self.weight, ignore_index=self.ignore_index, reduction=self.reduction))\n",
        "        return F.cross_entropy(input, target, weight=self.weight, ignore_index=self.ignore_index, reduction=self.reduction) # - (0.01 *  val)\n",
        "        #return val\n",
        "\n",
        "\n",
        "\n",
        "criterion = new_loss()\n",
        "optimizer = optim.SGD(net.parameters(), lr=0.001, momentum=0.9)"
      ]
    },
    {
      "cell_type": "code",
      "execution_count": null,
      "metadata": {
        "colab": {
          "background_save": true,
          "base_uri": "https://localhost:8080/"
        },
        "id": "GwEw3Yob25u8",
        "outputId": "a3b708c7-dbc0-4d17-df83-432ba654c6cf"
      },
      "outputs": [
        {
          "name": "stdout",
          "output_type": "stream",
          "text": [
            "[1,  2000] loss: 2.166\n",
            "[1,  4000] loss: 1.887\n",
            "[1,  6000] loss: 1.693\n",
            "[1,  8000] loss: 1.619\n",
            "[1, 10000] loss: 1.524\n",
            "[1, 12000] loss: 1.476\n",
            "[2,  2000] loss: 1.403\n",
            "[2,  4000] loss: 1.394\n",
            "[2,  6000] loss: 1.345\n",
            "[2,  8000] loss: 1.343\n",
            "[2, 10000] loss: 1.327\n",
            "[2, 12000] loss: 1.313\n",
            "[3,  2000] loss: 1.230\n",
            "[3,  4000] loss: 1.249\n",
            "[3,  6000] loss: 1.226\n",
            "[3,  8000] loss: 1.226\n",
            "[3, 10000] loss: 1.234\n",
            "[3, 12000] loss: 1.210\n",
            "[4,  2000] loss: 1.142\n",
            "[4,  4000] loss: 1.149\n",
            "[4,  6000] loss: 1.154\n",
            "[4,  8000] loss: 1.137\n",
            "[4, 10000] loss: 1.124\n",
            "[4, 12000] loss: 1.137\n",
            "[5,  2000] loss: 1.075\n",
            "[5,  4000] loss: 1.045\n",
            "[5,  6000] loss: 1.052\n",
            "[5,  8000] loss: 1.085\n",
            "[5, 10000] loss: 1.086\n",
            "[5, 12000] loss: 1.091\n",
            "[6,  2000] loss: 0.973\n",
            "[6,  4000] loss: 1.022\n",
            "[6,  6000] loss: 1.028\n",
            "[6,  8000] loss: 1.040\n",
            "[6, 10000] loss: 1.022\n",
            "[6, 12000] loss: 1.027\n",
            "[7,  2000] loss: 0.931\n",
            "[7,  4000] loss: 0.965\n",
            "[7,  6000] loss: 0.980\n",
            "[7,  8000] loss: 0.971\n",
            "[7, 10000] loss: 0.995\n",
            "[7, 12000] loss: 1.007\n",
            "[8,  2000] loss: 0.901\n",
            "[8,  4000] loss: 0.928\n",
            "[8,  6000] loss: 0.918\n",
            "[8,  8000] loss: 0.944\n",
            "[8, 10000] loss: 0.952\n",
            "[8, 12000] loss: 0.962\n",
            "[9,  2000] loss: 0.859\n",
            "[9,  4000] loss: 0.886\n",
            "[9,  6000] loss: 0.896\n",
            "[9,  8000] loss: 0.894\n",
            "[9, 10000] loss: 0.926\n",
            "[9, 12000] loss: 0.920\n",
            "[10,  2000] loss: 0.829\n",
            "[10,  4000] loss: 0.835\n",
            "[10,  6000] loss: 0.878\n",
            "[10,  8000] loss: 0.888\n",
            "[10, 10000] loss: 0.900\n",
            "[10, 12000] loss: 0.894\n",
            "[11,  2000] loss: 0.797\n",
            "[11,  4000] loss: 0.829\n",
            "[11,  6000] loss: 0.848\n",
            "[11,  8000] loss: 0.855\n",
            "[11, 10000] loss: 0.864\n",
            "[11, 12000] loss: 0.872\n",
            "[12,  2000] loss: 0.784\n",
            "[12,  4000] loss: 0.795\n",
            "[12,  6000] loss: 0.829\n",
            "[12,  8000] loss: 0.829\n",
            "[12, 10000] loss: 0.831\n",
            "[12, 12000] loss: 0.854\n",
            "[13,  2000] loss: 0.742\n",
            "[13,  4000] loss: 0.765\n",
            "[13,  6000] loss: 0.805\n",
            "[13,  8000] loss: 0.801\n",
            "[13, 10000] loss: 0.830\n",
            "[13, 12000] loss: 0.827\n",
            "[14,  2000] loss: 0.721\n",
            "[14,  4000] loss: 0.757\n",
            "[14,  6000] loss: 0.777\n",
            "[14,  8000] loss: 0.783\n",
            "[14, 10000] loss: 0.807\n",
            "[14, 12000] loss: 0.831\n",
            "[15,  2000] loss: 0.726\n",
            "[15,  4000] loss: 0.733\n",
            "[15,  6000] loss: 0.754\n",
            "[15,  8000] loss: 0.778\n",
            "[15, 10000] loss: 0.789\n",
            "[15, 12000] loss: 0.797\n",
            "[16,  2000] loss: 0.700\n",
            "[16,  4000] loss: 0.710\n",
            "[16,  6000] loss: 0.719\n",
            "[16,  8000] loss: 0.770\n",
            "[16, 10000] loss: 0.781\n",
            "[16, 12000] loss: 0.800\n",
            "[17,  2000] loss: 0.671\n",
            "[17,  4000] loss: 0.725\n",
            "[17,  6000] loss: 0.731\n",
            "[17,  8000] loss: 0.755\n",
            "[17, 10000] loss: 0.754\n",
            "[17, 12000] loss: 0.771\n",
            "[18,  2000] loss: 0.652\n",
            "[18,  4000] loss: 0.682\n",
            "[18,  6000] loss: 0.731\n",
            "[18,  8000] loss: 0.734\n",
            "[18, 10000] loss: 0.744\n",
            "[18, 12000] loss: 0.765\n",
            "[19,  2000] loss: 0.631\n",
            "[19,  4000] loss: 0.687\n",
            "[19,  6000] loss: 0.705\n",
            "[19,  8000] loss: 0.730\n",
            "[19, 10000] loss: 0.754\n",
            "[19, 12000] loss: 0.740\n",
            "[20,  2000] loss: 0.629\n",
            "[20,  4000] loss: 0.673\n",
            "[20,  6000] loss: 0.723\n",
            "[20,  8000] loss: 0.721\n",
            "[20, 10000] loss: 0.732\n",
            "[20, 12000] loss: 0.721\n",
            "Finished Training\n"
          ]
        }
      ],
      "source": [
        "device = torch.device(\"cuda:0\" if torch.cuda.is_available() else \"cpu\")\n",
        "net.to(device)\n",
        "\n",
        "for epoch in range(20):  # loop over the dataset multiple times\n",
        "\n",
        "    running_loss = 0.0\n",
        "    for i, data in enumerate(trainloader, 0):\n",
        "        # get the inputs\n",
        "        inputs, labels = data\n",
        "        inputs, labels = inputs.to(device), labels.to(device)\n",
        "\n",
        "        # zero the parameter gradients\n",
        "        optimizer.zero_grad()\n",
        "\n",
        "        # forward + backward + optimize\n",
        "        outputs = net(inputs)\n",
        "        loss = criterion(outputs, labels)\n",
        "        loss.backward()\n",
        "        optimizer.step()\n",
        "\n",
        "        # print statistics\n",
        "        running_loss += loss.item()\n",
        "        if i % 2000 == 1999:    # print every 2000 mini-batches\n",
        "            print('[%d, %5d] loss: %.3f' %\n",
        "                  (epoch + 1, i + 1, running_loss / 2000))\n",
        "            running_loss = 0.0\n",
        "\n",
        "print('Finished Training')"
      ]
    },
    {
      "cell_type": "code",
      "execution_count": null,
      "metadata": {
        "colab": {
          "background_save": true
        },
        "id": "DIuMfoTB29Yn",
        "outputId": "fed4fa11-30a2-4a90-eea7-340ed7cd50ab"
      },
      "outputs": [
        {
          "ename": "AttributeError",
          "evalue": "ignored",
          "output_type": "error",
          "traceback": [
            "\u001b[0;31m---------------------------------------------------------------------------\u001b[0m",
            "\u001b[0;31mAttributeError\u001b[0m                            Traceback (most recent call last)",
            "\u001b[0;32m<ipython-input-6-ae8481ed38bb>\u001b[0m in \u001b[0;36m<cell line: 2>\u001b[0;34m()\u001b[0m\n\u001b[1;32m      1\u001b[0m \u001b[0mdataiter\u001b[0m \u001b[0;34m=\u001b[0m \u001b[0miter\u001b[0m\u001b[0;34m(\u001b[0m\u001b[0mtestloader\u001b[0m\u001b[0;34m)\u001b[0m\u001b[0;34m\u001b[0m\u001b[0;34m\u001b[0m\u001b[0m\n\u001b[0;32m----> 2\u001b[0;31m \u001b[0mimages\u001b[0m\u001b[0;34m,\u001b[0m \u001b[0mlabels\u001b[0m \u001b[0;34m=\u001b[0m \u001b[0mdataiter\u001b[0m\u001b[0;34m.\u001b[0m\u001b[0mnext\u001b[0m\u001b[0;34m(\u001b[0m\u001b[0;34m)\u001b[0m\u001b[0;34m\u001b[0m\u001b[0;34m\u001b[0m\u001b[0m\n\u001b[0m\u001b[1;32m      3\u001b[0m \u001b[0;34m\u001b[0m\u001b[0m\n\u001b[1;32m      4\u001b[0m \u001b[0;31m# print images\u001b[0m\u001b[0;34m\u001b[0m\u001b[0;34m\u001b[0m\u001b[0m\n\u001b[1;32m      5\u001b[0m \u001b[0mimshow\u001b[0m\u001b[0;34m(\u001b[0m\u001b[0mtorchvision\u001b[0m\u001b[0;34m.\u001b[0m\u001b[0mutils\u001b[0m\u001b[0;34m.\u001b[0m\u001b[0mmake_grid\u001b[0m\u001b[0;34m(\u001b[0m\u001b[0mimages\u001b[0m\u001b[0;34m)\u001b[0m\u001b[0;34m)\u001b[0m\u001b[0;34m\u001b[0m\u001b[0;34m\u001b[0m\u001b[0m\n",
            "\u001b[0;31mAttributeError\u001b[0m: '_MultiProcessingDataLoaderIter' object has no attribute 'next'"
          ]
        }
      ],
      "source": [
        "dataiter = iter(testloader)\n",
        "images, labels = dataiter.next()\n",
        "\n",
        "# print images\n",
        "imshow(torchvision.utils.make_grid(images))\n",
        "print('GroundTruth: ', ' '.join('%5s' % classes[labels[j]] for j in range(4)))"
      ]
    },
    {
      "cell_type": "code",
      "execution_count": null,
      "metadata": {
        "colab": {
          "background_save": true
        },
        "id": "oKF-OtES3BuT"
      },
      "outputs": [],
      "source": [
        "correct = 0\n",
        "total = 0\n",
        "with torch.no_grad():\n",
        "    for data in testloader:\n",
        "        images, labels = data\n",
        "        outputs = net(images)\n",
        "        _, predicted = torch.max(outputs.data, 1)\n",
        "        total += labels.size(0)\n",
        "        correct += (predicted == labels).sum().item()\n",
        "\n",
        "print('Accuracy of the network on the 10000 test images: %d %%' % (\n",
        "    100 * correct / total))"
      ]
    },
    {
      "cell_type": "code",
      "execution_count": null,
      "metadata": {
        "colab": {
          "background_save": true
        },
        "id": "IeXlzoWk3EW8"
      },
      "outputs": [],
      "source": [
        "\n",
        "confidences = []\n",
        "for i in range(0,10):\n",
        "  confidences.append([])\n",
        "confidences\n",
        "\n",
        "class_correct = list(0. for i in range(10))\n",
        "class_total = list(0. for i in range(10))\n",
        "\n",
        "\n",
        "\n",
        "\n",
        "with torch.no_grad():\n",
        "    for data in testloader:\n",
        "        images, labels = data\n",
        "        outputs = net(images)\n",
        "        _, predicted = torch.max(outputs, 1)\n",
        "        c = (predicted == labels).squeeze()\n",
        "        for i in range(4):\n",
        "            label = labels[i]\n",
        "            class_correct[label] += c[i].item()\n",
        "            class_total[label] += 1\n",
        "            confidences[labels[i]].append(f(outputs[i]))\n",
        "\n",
        "\n",
        "for i in range(10):\n",
        "    print('Accuracy of %5s : %2d %%' % (\n",
        "        classes[i], 100 * class_correct[i] / class_total[i]))\n",
        "\n",
        "\n"
      ]
    },
    {
      "cell_type": "code",
      "execution_count": null,
      "metadata": {
        "colab": {
          "background_save": true
        },
        "id": "-zG3ELR73YBj"
      },
      "outputs": [],
      "source": [
        "from sklearn.metrics import confusion_matrix\n",
        "\n",
        "nb_classes = 10\n",
        "\n",
        "# Initialize the prediction and label lists(tensors)\n",
        "predlist=torch.zeros(0,dtype=torch.long, device='cpu')\n",
        "lbllist=torch.zeros(0,dtype=torch.long, device='cpu')\n",
        "\n",
        "\n",
        "with torch.no_grad():\n",
        "    for data in testloader:\n",
        "        images, labels = data\n",
        "        outputs = net(images)\n",
        "        _, predicted = torch.max(outputs, 1)\n",
        "        c = (predicted == labels).squeeze()\n",
        "        # for i in range(4):\n",
        "        #     label = labels[i]\n",
        "        #     pred = c[i]\n",
        "\n",
        "        predlist=torch.cat([predlist,predicted.view(-1).cpu()])\n",
        "        lbllist=torch.cat([lbllist,labels.view(-1).cpu()])\n",
        "\n",
        "\n",
        "\n",
        "# with torch.no_grad():\n",
        "#     for i, (inputs, classes) in enumerate(dataloaders['val']):\n",
        "#         inputs = inputs.to(device)\n",
        "#         classes = classes.to(device)\n",
        "#         outputs = model_ft(inputs)\n",
        "#         _, preds = torch.max(outputs, 1)\n",
        "\n",
        "#         # Append batch prediction results\n",
        "#         predlist=torch.cat([predlist,preds.view(-1).cpu()])\n",
        "#         lbllist=torch.cat([lbllist,classes.view(-1).cpu()])\n",
        "\n",
        "# Confusion matrix\n",
        "conf_mat=confusion_matrix(lbllist.numpy(), predlist.numpy())\n",
        "print(conf_mat)\n",
        "\n",
        "# Per-class accuracy\n",
        "class_accuracy=100*conf_mat.diagonal()/conf_mat.sum(1)\n",
        "print(class_accuracy)"
      ]
    },
    {
      "cell_type": "code",
      "execution_count": null,
      "metadata": {
        "colab": {
          "background_save": true
        },
        "id": "WxZ1toQf3iFL"
      },
      "outputs": [],
      "source": [
        "from sklearn.metrics import classification_report\n",
        "\n",
        "print(classification_report(lbllist.numpy(), predlist.numpy()))"
      ]
    },
    {
      "cell_type": "code",
      "execution_count": null,
      "metadata": {
        "colab": {
          "background_save": true
        },
        "id": "h403v1Eq3l6Q"
      },
      "outputs": [],
      "source": [
        "import pandas as pd\n",
        "import matplotlib.pyplot as plt\n",
        "\n",
        "def hist(cno):\n",
        "  df2 = pd.DataFrame()\n",
        "  for i in range(0,len(confidences[cno])):\n",
        "    df2 = df2.append(pd.DataFrame(confidences[cno][i].numpy().reshape(-1, len(confidences[cno][i].numpy()))))\n",
        "\n",
        "\n",
        "  corr = df2.corr()\n",
        "  corr.style.background_gradient(cmap='coolwarm')\n",
        "\n",
        "  arr = []\n",
        "  for i in range(0,10):\n",
        "    arr.append(sum(df2.iloc[:,i])/1000)\n",
        "\n",
        "  plt.bar(np.arange(len(arr)),arr)\n",
        "  plt.show()"
      ]
    },
    {
      "cell_type": "code",
      "execution_count": null,
      "metadata": {
        "colab": {
          "background_save": true
        },
        "id": "xUSpcwZa3tfc"
      },
      "outputs": [],
      "source": [
        "for i in range(0,10):\n",
        "  print(i)\n",
        "  hist(i)"
      ]
    },
    {
      "cell_type": "code",
      "execution_count": null,
      "metadata": {
        "colab": {
          "background_save": true
        },
        "id": "X6BZEdXi3427"
      },
      "outputs": [],
      "source": [
        "class correct\n"
      ]
    },
    {
      "cell_type": "code",
      "execution_count": null,
      "metadata": {
        "colab": {
          "background_save": true
        },
        "id": "LF43fUL23ynK"
      },
      "outputs": [],
      "source": [
        "import pandas as pd\n",
        "df2 = pd.DataFrame()\n",
        "\n",
        "\n",
        "for i in range(0,len(outputs)):\n",
        "  df2 = df2.append(pd.DataFrame(outputs[i]))\n",
        "\n",
        "import matplotlib.pyplot as plt\n",
        "\n",
        "plt.matshow(df2.corr())\n",
        "plt.colorbar()\n",
        "plt.show()"
      ]
    },
    {
      "cell_type": "code",
      "execution_count": null,
      "metadata": {
        "colab": {
          "background_save": true
        },
        "id": "xJv8EFE33-qJ"
      },
      "outputs": [],
      "source": [
        "import collections\n",
        "mc = []\n",
        "for i in range(0,10):\n",
        "  mc.append([])\n",
        "\n",
        "\n",
        "df2 = pd.DataFrame()\n",
        "for nu in range(0, 10):\n",
        "  results = []\n",
        "  with torch.no_grad():\n",
        "      for data in testloader:\n",
        "          images, labels = data\n",
        "          outputs = net(images)\n",
        "          _, predicted = torch.max(outputs, 1)\n",
        "          c = (predicted == labels).squeeze()\n",
        "          for i in range(4):\n",
        "              label = labels[i]\n",
        "              class_correct[label] += c[i].item()\n",
        "              class_total[label] += 1\n",
        "              if(label == nu):\n",
        "                results.append(predicted[i].item())\n",
        "              #confidences[labels[i]].append(f(outputs[i]))\n",
        "\n",
        "  print(results)\n",
        "  mc[nu] = results\n",
        "  #df2 = df2.append(pd.DataFrame(np.array(list(collections.Counter(results).values())).reshape(-1, len(np.array(list(collections.Counter(results).values()))))))\n",
        "\n",
        "\n"
      ]
    },
    {
      "cell_type": "code",
      "execution_count": null,
      "metadata": {
        "colab": {
          "background_save": true
        },
        "id": "weHSGB5b4JKE"
      },
      "outputs": [],
      "source": [
        "df2 = pd.DataFrame()\n",
        "for i in range(0,10):\n",
        "  df2 = df2.append(pd.value_counts(np.array(mc[i])).sort_index(), ignore_index = True)\n",
        "\n"
      ]
    },
    {
      "cell_type": "code",
      "execution_count": null,
      "metadata": {
        "colab": {
          "background_save": true
        },
        "id": "MiY4lJyv4MrA"
      },
      "outputs": [],
      "source": [
        "import matplotlib.pyplot as plt\n",
        "df2 = df2/1000\n",
        "plt.matshow(df2)\n",
        "plt.colorbar()\n",
        "plt.show()\n",
        "df2/1000"
      ]
    }
  ],
  "metadata": {
    "accelerator": "GPU",
    "colab": {
      "provenance": [],
      "authorship_tag": "ABX9TyOvsINTaWhJx3IcyTqKkyU2",
      "include_colab_link": true
    },
    "kernelspec": {
      "display_name": "Python 3",
      "name": "python3"
    },
    "language_info": {
      "name": "python"
    }
  },
  "nbformat": 4,
  "nbformat_minor": 0
}